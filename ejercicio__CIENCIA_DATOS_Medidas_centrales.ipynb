{
  "nbformat": 4,
  "nbformat_minor": 0,
  "metadata": {
    "colab": {
      "provenance": []
    },
    "kernelspec": {
      "name": "python3",
      "display_name": "Python 3"
    },
    "language_info": {
      "name": "python"
    }
  },
  "cells": [
    {
      "cell_type": "markdown",
      "source": [
        "#Trabajando con medidas centrales\n",
        "###1. Trabajando con dataframes\n",
        "###2. Obteniendo medidas centrales\n",
        "###3. Analizando gráficas"
      ],
      "metadata": {
        "id": "izefT-T123zx"
      }
    },
    {
      "cell_type": "markdown",
      "source": [
        "## 1. Trabajando con dataframes"
      ],
      "metadata": {
        "id": "_Ag9mL8k3JBQ"
      }
    },
    {
      "cell_type": "code",
      "source": [
        "!pip install statsmodels"
      ],
      "metadata": {
        "colab": {
          "base_uri": "https://localhost:8080/"
        },
        "id": "9JQ9q4zA4yVy",
        "outputId": "fd3b860c-e1ea-476e-a137-e87cc0f5decf"
      },
      "execution_count": null,
      "outputs": [
        {
          "output_type": "stream",
          "name": "stdout",
          "text": [
            "Requirement already satisfied: statsmodels in /usr/local/lib/python3.10/dist-packages (0.14.2)\n",
            "Requirement already satisfied: numpy>=1.22.3 in /usr/local/lib/python3.10/dist-packages (from statsmodels) (1.26.4)\n",
            "Requirement already satisfied: scipy!=1.9.2,>=1.8 in /usr/local/lib/python3.10/dist-packages (from statsmodels) (1.13.1)\n",
            "Requirement already satisfied: pandas!=2.1.0,>=1.4 in /usr/local/lib/python3.10/dist-packages (from statsmodels) (2.1.4)\n",
            "Requirement already satisfied: patsy>=0.5.6 in /usr/local/lib/python3.10/dist-packages (from statsmodels) (0.5.6)\n",
            "Requirement already satisfied: packaging>=21.3 in /usr/local/lib/python3.10/dist-packages (from statsmodels) (24.1)\n",
            "Requirement already satisfied: python-dateutil>=2.8.2 in /usr/local/lib/python3.10/dist-packages (from pandas!=2.1.0,>=1.4->statsmodels) (2.8.2)\n",
            "Requirement already satisfied: pytz>=2020.1 in /usr/local/lib/python3.10/dist-packages (from pandas!=2.1.0,>=1.4->statsmodels) (2024.2)\n",
            "Requirement already satisfied: tzdata>=2022.1 in /usr/local/lib/python3.10/dist-packages (from pandas!=2.1.0,>=1.4->statsmodels) (2024.1)\n",
            "Requirement already satisfied: six in /usr/local/lib/python3.10/dist-packages (from patsy>=0.5.6->statsmodels) (1.16.0)\n"
          ]
        }
      ]
    },
    {
      "cell_type": "code",
      "source": [
        "!pip install wquantiles"
      ],
      "metadata": {
        "colab": {
          "base_uri": "https://localhost:8080/"
        },
        "id": "kkjo3x9O6IX3",
        "outputId": "484c536e-8fd4-4b9c-de27-46d8ad910d09"
      },
      "execution_count": null,
      "outputs": [
        {
          "output_type": "stream",
          "name": "stdout",
          "text": [
            "Collecting wquantiles\n",
            "  Downloading wquantiles-0.6-py3-none-any.whl.metadata (1.1 kB)\n",
            "Requirement already satisfied: numpy>=1.18 in /usr/local/lib/python3.10/dist-packages (from wquantiles) (1.26.4)\n",
            "Downloading wquantiles-0.6-py3-none-any.whl (3.3 kB)\n",
            "Installing collected packages: wquantiles\n",
            "Successfully installed wquantiles-0.6\n"
          ]
        }
      ]
    },
    {
      "cell_type": "code",
      "source": [
        "#!pip install git+https://github.com/statsmodels/statsmodels"
      ],
      "metadata": {
        "id": "mWYyRwKQ5KSX"
      },
      "execution_count": null,
      "outputs": []
    },
    {
      "cell_type": "code",
      "source": [
        "import pandas as pd\n",
        "import numpy as np\n",
        "from scipy.stats import trim_mean\n",
        "from statsmodels import robust\n",
        "import wquantiles\n",
        "import seaborn as sns\n",
        "import matplotlib.pyplot as plt"
      ],
      "metadata": {
        "id": "Q0DGeBOS3WWH"
      },
      "execution_count": null,
      "outputs": []
    },
    {
      "cell_type": "code",
      "execution_count": null,
      "metadata": {
        "id": "2_faF-_gzNwg",
        "colab": {
          "base_uri": "https://localhost:8080/",
          "height": 304
        },
        "outputId": "2c96b5a3-f143-4686-a97a-2fb503374d36"
      },
      "outputs": [
        {
          "output_type": "error",
          "ename": "FileNotFoundError",
          "evalue": "[Errno 2] No such file or directory: '/content/sample_data/state.csv'",
          "traceback": [
            "\u001b[0;31m---------------------------------------------------------------------------\u001b[0m",
            "\u001b[0;31mFileNotFoundError\u001b[0m                         Traceback (most recent call last)",
            "\u001b[0;32m<ipython-input-9-cb2fd02d371d>\u001b[0m in \u001b[0;36m<cell line: 1>\u001b[0;34m()\u001b[0m\n\u001b[0;32m----> 1\u001b[0;31m \u001b[0mestado\u001b[0m\u001b[0;34m=\u001b[0m\u001b[0mpd\u001b[0m\u001b[0;34m.\u001b[0m\u001b[0mread_csv\u001b[0m\u001b[0;34m(\u001b[0m\u001b[0;34m\"/content/sample_data/state.csv\"\u001b[0m\u001b[0;34m)\u001b[0m\u001b[0;34m\u001b[0m\u001b[0;34m\u001b[0m\u001b[0m\n\u001b[0m",
            "\u001b[0;32m/usr/local/lib/python3.10/dist-packages/pandas/io/parsers/readers.py\u001b[0m in \u001b[0;36mread_csv\u001b[0;34m(filepath_or_buffer, sep, delimiter, header, names, index_col, usecols, dtype, engine, converters, true_values, false_values, skipinitialspace, skiprows, skipfooter, nrows, na_values, keep_default_na, na_filter, verbose, skip_blank_lines, parse_dates, infer_datetime_format, keep_date_col, date_parser, date_format, dayfirst, cache_dates, iterator, chunksize, compression, thousands, decimal, lineterminator, quotechar, quoting, doublequote, escapechar, comment, encoding, encoding_errors, dialect, on_bad_lines, delim_whitespace, low_memory, memory_map, float_precision, storage_options, dtype_backend)\u001b[0m\n\u001b[1;32m    946\u001b[0m     \u001b[0mkwds\u001b[0m\u001b[0;34m.\u001b[0m\u001b[0mupdate\u001b[0m\u001b[0;34m(\u001b[0m\u001b[0mkwds_defaults\u001b[0m\u001b[0;34m)\u001b[0m\u001b[0;34m\u001b[0m\u001b[0;34m\u001b[0m\u001b[0m\n\u001b[1;32m    947\u001b[0m \u001b[0;34m\u001b[0m\u001b[0m\n\u001b[0;32m--> 948\u001b[0;31m     \u001b[0;32mreturn\u001b[0m \u001b[0m_read\u001b[0m\u001b[0;34m(\u001b[0m\u001b[0mfilepath_or_buffer\u001b[0m\u001b[0;34m,\u001b[0m \u001b[0mkwds\u001b[0m\u001b[0;34m)\u001b[0m\u001b[0;34m\u001b[0m\u001b[0;34m\u001b[0m\u001b[0m\n\u001b[0m\u001b[1;32m    949\u001b[0m \u001b[0;34m\u001b[0m\u001b[0m\n\u001b[1;32m    950\u001b[0m \u001b[0;34m\u001b[0m\u001b[0m\n",
            "\u001b[0;32m/usr/local/lib/python3.10/dist-packages/pandas/io/parsers/readers.py\u001b[0m in \u001b[0;36m_read\u001b[0;34m(filepath_or_buffer, kwds)\u001b[0m\n\u001b[1;32m    609\u001b[0m \u001b[0;34m\u001b[0m\u001b[0m\n\u001b[1;32m    610\u001b[0m     \u001b[0;31m# Create the parser.\u001b[0m\u001b[0;34m\u001b[0m\u001b[0;34m\u001b[0m\u001b[0m\n\u001b[0;32m--> 611\u001b[0;31m     \u001b[0mparser\u001b[0m \u001b[0;34m=\u001b[0m \u001b[0mTextFileReader\u001b[0m\u001b[0;34m(\u001b[0m\u001b[0mfilepath_or_buffer\u001b[0m\u001b[0;34m,\u001b[0m \u001b[0;34m**\u001b[0m\u001b[0mkwds\u001b[0m\u001b[0;34m)\u001b[0m\u001b[0;34m\u001b[0m\u001b[0;34m\u001b[0m\u001b[0m\n\u001b[0m\u001b[1;32m    612\u001b[0m \u001b[0;34m\u001b[0m\u001b[0m\n\u001b[1;32m    613\u001b[0m     \u001b[0;32mif\u001b[0m \u001b[0mchunksize\u001b[0m \u001b[0;32mor\u001b[0m \u001b[0miterator\u001b[0m\u001b[0;34m:\u001b[0m\u001b[0;34m\u001b[0m\u001b[0;34m\u001b[0m\u001b[0m\n",
            "\u001b[0;32m/usr/local/lib/python3.10/dist-packages/pandas/io/parsers/readers.py\u001b[0m in \u001b[0;36m__init__\u001b[0;34m(self, f, engine, **kwds)\u001b[0m\n\u001b[1;32m   1446\u001b[0m \u001b[0;34m\u001b[0m\u001b[0m\n\u001b[1;32m   1447\u001b[0m         \u001b[0mself\u001b[0m\u001b[0;34m.\u001b[0m\u001b[0mhandles\u001b[0m\u001b[0;34m:\u001b[0m \u001b[0mIOHandles\u001b[0m \u001b[0;34m|\u001b[0m \u001b[0;32mNone\u001b[0m \u001b[0;34m=\u001b[0m \u001b[0;32mNone\u001b[0m\u001b[0;34m\u001b[0m\u001b[0;34m\u001b[0m\u001b[0m\n\u001b[0;32m-> 1448\u001b[0;31m         \u001b[0mself\u001b[0m\u001b[0;34m.\u001b[0m\u001b[0m_engine\u001b[0m \u001b[0;34m=\u001b[0m \u001b[0mself\u001b[0m\u001b[0;34m.\u001b[0m\u001b[0m_make_engine\u001b[0m\u001b[0;34m(\u001b[0m\u001b[0mf\u001b[0m\u001b[0;34m,\u001b[0m \u001b[0mself\u001b[0m\u001b[0;34m.\u001b[0m\u001b[0mengine\u001b[0m\u001b[0;34m)\u001b[0m\u001b[0;34m\u001b[0m\u001b[0;34m\u001b[0m\u001b[0m\n\u001b[0m\u001b[1;32m   1449\u001b[0m \u001b[0;34m\u001b[0m\u001b[0m\n\u001b[1;32m   1450\u001b[0m     \u001b[0;32mdef\u001b[0m \u001b[0mclose\u001b[0m\u001b[0;34m(\u001b[0m\u001b[0mself\u001b[0m\u001b[0;34m)\u001b[0m \u001b[0;34m->\u001b[0m \u001b[0;32mNone\u001b[0m\u001b[0;34m:\u001b[0m\u001b[0;34m\u001b[0m\u001b[0;34m\u001b[0m\u001b[0m\n",
            "\u001b[0;32m/usr/local/lib/python3.10/dist-packages/pandas/io/parsers/readers.py\u001b[0m in \u001b[0;36m_make_engine\u001b[0;34m(self, f, engine)\u001b[0m\n\u001b[1;32m   1703\u001b[0m                 \u001b[0;32mif\u001b[0m \u001b[0;34m\"b\"\u001b[0m \u001b[0;32mnot\u001b[0m \u001b[0;32min\u001b[0m \u001b[0mmode\u001b[0m\u001b[0;34m:\u001b[0m\u001b[0;34m\u001b[0m\u001b[0;34m\u001b[0m\u001b[0m\n\u001b[1;32m   1704\u001b[0m                     \u001b[0mmode\u001b[0m \u001b[0;34m+=\u001b[0m \u001b[0;34m\"b\"\u001b[0m\u001b[0;34m\u001b[0m\u001b[0;34m\u001b[0m\u001b[0m\n\u001b[0;32m-> 1705\u001b[0;31m             self.handles = get_handle(\n\u001b[0m\u001b[1;32m   1706\u001b[0m                 \u001b[0mf\u001b[0m\u001b[0;34m,\u001b[0m\u001b[0;34m\u001b[0m\u001b[0;34m\u001b[0m\u001b[0m\n\u001b[1;32m   1707\u001b[0m                 \u001b[0mmode\u001b[0m\u001b[0;34m,\u001b[0m\u001b[0;34m\u001b[0m\u001b[0;34m\u001b[0m\u001b[0m\n",
            "\u001b[0;32m/usr/local/lib/python3.10/dist-packages/pandas/io/common.py\u001b[0m in \u001b[0;36mget_handle\u001b[0;34m(path_or_buf, mode, encoding, compression, memory_map, is_text, errors, storage_options)\u001b[0m\n\u001b[1;32m    861\u001b[0m         \u001b[0;32mif\u001b[0m \u001b[0mioargs\u001b[0m\u001b[0;34m.\u001b[0m\u001b[0mencoding\u001b[0m \u001b[0;32mand\u001b[0m \u001b[0;34m\"b\"\u001b[0m \u001b[0;32mnot\u001b[0m \u001b[0;32min\u001b[0m \u001b[0mioargs\u001b[0m\u001b[0;34m.\u001b[0m\u001b[0mmode\u001b[0m\u001b[0;34m:\u001b[0m\u001b[0;34m\u001b[0m\u001b[0;34m\u001b[0m\u001b[0m\n\u001b[1;32m    862\u001b[0m             \u001b[0;31m# Encoding\u001b[0m\u001b[0;34m\u001b[0m\u001b[0;34m\u001b[0m\u001b[0m\n\u001b[0;32m--> 863\u001b[0;31m             handle = open(\n\u001b[0m\u001b[1;32m    864\u001b[0m                 \u001b[0mhandle\u001b[0m\u001b[0;34m,\u001b[0m\u001b[0;34m\u001b[0m\u001b[0;34m\u001b[0m\u001b[0m\n\u001b[1;32m    865\u001b[0m                 \u001b[0mioargs\u001b[0m\u001b[0;34m.\u001b[0m\u001b[0mmode\u001b[0m\u001b[0;34m,\u001b[0m\u001b[0;34m\u001b[0m\u001b[0;34m\u001b[0m\u001b[0m\n",
            "\u001b[0;31mFileNotFoundError\u001b[0m: [Errno 2] No such file or directory: '/content/sample_data/state.csv'"
          ]
        }
      ],
      "source": [
        "estado=pd.read_csv(\"/content/sample_data/state.csv\")"
      ]
    },
    {
      "cell_type": "code",
      "source": [
        "#Ver los primeros 5 datos\n",
        "estado.head()"
      ],
      "metadata": {
        "colab": {
          "base_uri": "https://localhost:8080/",
          "height": 206
        },
        "id": "8iWCiwCT3s27",
        "outputId": "f7634f8c-a3f1-4422-a741-158a0645edc9"
      },
      "execution_count": null,
      "outputs": [
        {
          "output_type": "execute_result",
          "data": {
            "text/plain": [
              "        State  Population  Murder.Rate Abbreviation\n",
              "0     Alabama     4779736          5.7           AL\n",
              "1      Alaska      710231          5.6           AK\n",
              "2     Arizona     6392017          4.7           AZ\n",
              "3    Arkansas     2915918          5.6           AR\n",
              "4  California    37253956          4.4           CA"
            ],
            "text/html": [
              "\n",
              "  <div id=\"df-715f2383-adee-4a9e-a350-73b8d89dfda4\" class=\"colab-df-container\">\n",
              "    <div>\n",
              "<style scoped>\n",
              "    .dataframe tbody tr th:only-of-type {\n",
              "        vertical-align: middle;\n",
              "    }\n",
              "\n",
              "    .dataframe tbody tr th {\n",
              "        vertical-align: top;\n",
              "    }\n",
              "\n",
              "    .dataframe thead th {\n",
              "        text-align: right;\n",
              "    }\n",
              "</style>\n",
              "<table border=\"1\" class=\"dataframe\">\n",
              "  <thead>\n",
              "    <tr style=\"text-align: right;\">\n",
              "      <th></th>\n",
              "      <th>State</th>\n",
              "      <th>Population</th>\n",
              "      <th>Murder.Rate</th>\n",
              "      <th>Abbreviation</th>\n",
              "    </tr>\n",
              "  </thead>\n",
              "  <tbody>\n",
              "    <tr>\n",
              "      <th>0</th>\n",
              "      <td>Alabama</td>\n",
              "      <td>4779736</td>\n",
              "      <td>5.7</td>\n",
              "      <td>AL</td>\n",
              "    </tr>\n",
              "    <tr>\n",
              "      <th>1</th>\n",
              "      <td>Alaska</td>\n",
              "      <td>710231</td>\n",
              "      <td>5.6</td>\n",
              "      <td>AK</td>\n",
              "    </tr>\n",
              "    <tr>\n",
              "      <th>2</th>\n",
              "      <td>Arizona</td>\n",
              "      <td>6392017</td>\n",
              "      <td>4.7</td>\n",
              "      <td>AZ</td>\n",
              "    </tr>\n",
              "    <tr>\n",
              "      <th>3</th>\n",
              "      <td>Arkansas</td>\n",
              "      <td>2915918</td>\n",
              "      <td>5.6</td>\n",
              "      <td>AR</td>\n",
              "    </tr>\n",
              "    <tr>\n",
              "      <th>4</th>\n",
              "      <td>California</td>\n",
              "      <td>37253956</td>\n",
              "      <td>4.4</td>\n",
              "      <td>CA</td>\n",
              "    </tr>\n",
              "  </tbody>\n",
              "</table>\n",
              "</div>\n",
              "    <div class=\"colab-df-buttons\">\n",
              "\n",
              "  <div class=\"colab-df-container\">\n",
              "    <button class=\"colab-df-convert\" onclick=\"convertToInteractive('df-715f2383-adee-4a9e-a350-73b8d89dfda4')\"\n",
              "            title=\"Convert this dataframe to an interactive table.\"\n",
              "            style=\"display:none;\">\n",
              "\n",
              "  <svg xmlns=\"http://www.w3.org/2000/svg\" height=\"24px\" viewBox=\"0 -960 960 960\">\n",
              "    <path d=\"M120-120v-720h720v720H120Zm60-500h600v-160H180v160Zm220 220h160v-160H400v160Zm0 220h160v-160H400v160ZM180-400h160v-160H180v160Zm440 0h160v-160H620v160ZM180-180h160v-160H180v160Zm440 0h160v-160H620v160Z\"/>\n",
              "  </svg>\n",
              "    </button>\n",
              "\n",
              "  <style>\n",
              "    .colab-df-container {\n",
              "      display:flex;\n",
              "      gap: 12px;\n",
              "    }\n",
              "\n",
              "    .colab-df-convert {\n",
              "      background-color: #E8F0FE;\n",
              "      border: none;\n",
              "      border-radius: 50%;\n",
              "      cursor: pointer;\n",
              "      display: none;\n",
              "      fill: #1967D2;\n",
              "      height: 32px;\n",
              "      padding: 0 0 0 0;\n",
              "      width: 32px;\n",
              "    }\n",
              "\n",
              "    .colab-df-convert:hover {\n",
              "      background-color: #E2EBFA;\n",
              "      box-shadow: 0px 1px 2px rgba(60, 64, 67, 0.3), 0px 1px 3px 1px rgba(60, 64, 67, 0.15);\n",
              "      fill: #174EA6;\n",
              "    }\n",
              "\n",
              "    .colab-df-buttons div {\n",
              "      margin-bottom: 4px;\n",
              "    }\n",
              "\n",
              "    [theme=dark] .colab-df-convert {\n",
              "      background-color: #3B4455;\n",
              "      fill: #D2E3FC;\n",
              "    }\n",
              "\n",
              "    [theme=dark] .colab-df-convert:hover {\n",
              "      background-color: #434B5C;\n",
              "      box-shadow: 0px 1px 3px 1px rgba(0, 0, 0, 0.15);\n",
              "      filter: drop-shadow(0px 1px 2px rgba(0, 0, 0, 0.3));\n",
              "      fill: #FFFFFF;\n",
              "    }\n",
              "  </style>\n",
              "\n",
              "    <script>\n",
              "      const buttonEl =\n",
              "        document.querySelector('#df-715f2383-adee-4a9e-a350-73b8d89dfda4 button.colab-df-convert');\n",
              "      buttonEl.style.display =\n",
              "        google.colab.kernel.accessAllowed ? 'block' : 'none';\n",
              "\n",
              "      async function convertToInteractive(key) {\n",
              "        const element = document.querySelector('#df-715f2383-adee-4a9e-a350-73b8d89dfda4');\n",
              "        const dataTable =\n",
              "          await google.colab.kernel.invokeFunction('convertToInteractive',\n",
              "                                                    [key], {});\n",
              "        if (!dataTable) return;\n",
              "\n",
              "        const docLinkHtml = 'Like what you see? Visit the ' +\n",
              "          '<a target=\"_blank\" href=https://colab.research.google.com/notebooks/data_table.ipynb>data table notebook</a>'\n",
              "          + ' to learn more about interactive tables.';\n",
              "        element.innerHTML = '';\n",
              "        dataTable['output_type'] = 'display_data';\n",
              "        await google.colab.output.renderOutput(dataTable, element);\n",
              "        const docLink = document.createElement('div');\n",
              "        docLink.innerHTML = docLinkHtml;\n",
              "        element.appendChild(docLink);\n",
              "      }\n",
              "    </script>\n",
              "  </div>\n",
              "\n",
              "\n",
              "<div id=\"df-1a077e52-6fe9-4a6b-b850-a3ddad44249d\">\n",
              "  <button class=\"colab-df-quickchart\" onclick=\"quickchart('df-1a077e52-6fe9-4a6b-b850-a3ddad44249d')\"\n",
              "            title=\"Suggest charts\"\n",
              "            style=\"display:none;\">\n",
              "\n",
              "<svg xmlns=\"http://www.w3.org/2000/svg\" height=\"24px\"viewBox=\"0 0 24 24\"\n",
              "     width=\"24px\">\n",
              "    <g>\n",
              "        <path d=\"M19 3H5c-1.1 0-2 .9-2 2v14c0 1.1.9 2 2 2h14c1.1 0 2-.9 2-2V5c0-1.1-.9-2-2-2zM9 17H7v-7h2v7zm4 0h-2V7h2v10zm4 0h-2v-4h2v4z\"/>\n",
              "    </g>\n",
              "</svg>\n",
              "  </button>\n",
              "\n",
              "<style>\n",
              "  .colab-df-quickchart {\n",
              "      --bg-color: #E8F0FE;\n",
              "      --fill-color: #1967D2;\n",
              "      --hover-bg-color: #E2EBFA;\n",
              "      --hover-fill-color: #174EA6;\n",
              "      --disabled-fill-color: #AAA;\n",
              "      --disabled-bg-color: #DDD;\n",
              "  }\n",
              "\n",
              "  [theme=dark] .colab-df-quickchart {\n",
              "      --bg-color: #3B4455;\n",
              "      --fill-color: #D2E3FC;\n",
              "      --hover-bg-color: #434B5C;\n",
              "      --hover-fill-color: #FFFFFF;\n",
              "      --disabled-bg-color: #3B4455;\n",
              "      --disabled-fill-color: #666;\n",
              "  }\n",
              "\n",
              "  .colab-df-quickchart {\n",
              "    background-color: var(--bg-color);\n",
              "    border: none;\n",
              "    border-radius: 50%;\n",
              "    cursor: pointer;\n",
              "    display: none;\n",
              "    fill: var(--fill-color);\n",
              "    height: 32px;\n",
              "    padding: 0;\n",
              "    width: 32px;\n",
              "  }\n",
              "\n",
              "  .colab-df-quickchart:hover {\n",
              "    background-color: var(--hover-bg-color);\n",
              "    box-shadow: 0 1px 2px rgba(60, 64, 67, 0.3), 0 1px 3px 1px rgba(60, 64, 67, 0.15);\n",
              "    fill: var(--button-hover-fill-color);\n",
              "  }\n",
              "\n",
              "  .colab-df-quickchart-complete:disabled,\n",
              "  .colab-df-quickchart-complete:disabled:hover {\n",
              "    background-color: var(--disabled-bg-color);\n",
              "    fill: var(--disabled-fill-color);\n",
              "    box-shadow: none;\n",
              "  }\n",
              "\n",
              "  .colab-df-spinner {\n",
              "    border: 2px solid var(--fill-color);\n",
              "    border-color: transparent;\n",
              "    border-bottom-color: var(--fill-color);\n",
              "    animation:\n",
              "      spin 1s steps(1) infinite;\n",
              "  }\n",
              "\n",
              "  @keyframes spin {\n",
              "    0% {\n",
              "      border-color: transparent;\n",
              "      border-bottom-color: var(--fill-color);\n",
              "      border-left-color: var(--fill-color);\n",
              "    }\n",
              "    20% {\n",
              "      border-color: transparent;\n",
              "      border-left-color: var(--fill-color);\n",
              "      border-top-color: var(--fill-color);\n",
              "    }\n",
              "    30% {\n",
              "      border-color: transparent;\n",
              "      border-left-color: var(--fill-color);\n",
              "      border-top-color: var(--fill-color);\n",
              "      border-right-color: var(--fill-color);\n",
              "    }\n",
              "    40% {\n",
              "      border-color: transparent;\n",
              "      border-right-color: var(--fill-color);\n",
              "      border-top-color: var(--fill-color);\n",
              "    }\n",
              "    60% {\n",
              "      border-color: transparent;\n",
              "      border-right-color: var(--fill-color);\n",
              "    }\n",
              "    80% {\n",
              "      border-color: transparent;\n",
              "      border-right-color: var(--fill-color);\n",
              "      border-bottom-color: var(--fill-color);\n",
              "    }\n",
              "    90% {\n",
              "      border-color: transparent;\n",
              "      border-bottom-color: var(--fill-color);\n",
              "    }\n",
              "  }\n",
              "</style>\n",
              "\n",
              "  <script>\n",
              "    async function quickchart(key) {\n",
              "      const quickchartButtonEl =\n",
              "        document.querySelector('#' + key + ' button');\n",
              "      quickchartButtonEl.disabled = true;  // To prevent multiple clicks.\n",
              "      quickchartButtonEl.classList.add('colab-df-spinner');\n",
              "      try {\n",
              "        const charts = await google.colab.kernel.invokeFunction(\n",
              "            'suggestCharts', [key], {});\n",
              "      } catch (error) {\n",
              "        console.error('Error during call to suggestCharts:', error);\n",
              "      }\n",
              "      quickchartButtonEl.classList.remove('colab-df-spinner');\n",
              "      quickchartButtonEl.classList.add('colab-df-quickchart-complete');\n",
              "    }\n",
              "    (() => {\n",
              "      let quickchartButtonEl =\n",
              "        document.querySelector('#df-1a077e52-6fe9-4a6b-b850-a3ddad44249d button');\n",
              "      quickchartButtonEl.style.display =\n",
              "        google.colab.kernel.accessAllowed ? 'block' : 'none';\n",
              "    })();\n",
              "  </script>\n",
              "</div>\n",
              "\n",
              "    </div>\n",
              "  </div>\n"
            ],
            "application/vnd.google.colaboratory.intrinsic+json": {
              "type": "dataframe",
              "variable_name": "estado",
              "summary": "{\n  \"name\": \"estado\",\n  \"rows\": 50,\n  \"fields\": [\n    {\n      \"column\": \"State\",\n      \"properties\": {\n        \"dtype\": \"string\",\n        \"num_unique_values\": 50,\n        \"samples\": [\n          \"Indiana\",\n          \"South Carolina\",\n          \"New Mexico\"\n        ],\n        \"semantic_type\": \"\",\n        \"description\": \"\"\n      }\n    },\n    {\n      \"column\": \"Population\",\n      \"properties\": {\n        \"dtype\": \"number\",\n        \"std\": 6848235,\n        \"min\": 563626,\n        \"max\": 37253956,\n        \"num_unique_values\": 50,\n        \"samples\": [\n          6483802,\n          4625364,\n          2059179\n        ],\n        \"semantic_type\": \"\",\n        \"description\": \"\"\n      }\n    },\n    {\n      \"column\": \"Murder.Rate\",\n      \"properties\": {\n        \"dtype\": \"number\",\n        \"std\": 1.9157361243029227,\n        \"min\": 0.9,\n        \"max\": 10.3,\n        \"num_unique_values\": 34,\n        \"samples\": [\n          1.6,\n          6.6,\n          4.0\n        ],\n        \"semantic_type\": \"\",\n        \"description\": \"\"\n      }\n    },\n    {\n      \"column\": \"Abbreviation\",\n      \"properties\": {\n        \"dtype\": \"string\",\n        \"num_unique_values\": 50,\n        \"samples\": [\n          \"IN\",\n          \"SC\",\n          \"NM\"\n        ],\n        \"semantic_type\": \"\",\n        \"description\": \"\"\n      }\n    }\n  ]\n}"
            }
          },
          "metadata": {},
          "execution_count": 8
        }
      ]
    },
    {
      "cell_type": "code",
      "source": [
        "estado.tail(3)"
      ],
      "metadata": {
        "colab": {
          "base_uri": "https://localhost:8080/",
          "height": 143
        },
        "id": "kbBwPGEC36Ms",
        "outputId": "34460194-b265-438b-bd02-27f3cd0809e7"
      },
      "execution_count": null,
      "outputs": [
        {
          "output_type": "execute_result",
          "data": {
            "text/plain": [
              "            State  Population  Murder.Rate Abbreviation\n",
              "47  West Virginia     1852994          4.0           WV\n",
              "48      Wisconsin     5686986          2.9           WI\n",
              "49        Wyoming      563626          2.7           WY"
            ],
            "text/html": [
              "\n",
              "  <div id=\"df-82ca3a62-c557-4069-b497-4bfcd4286819\" class=\"colab-df-container\">\n",
              "    <div>\n",
              "<style scoped>\n",
              "    .dataframe tbody tr th:only-of-type {\n",
              "        vertical-align: middle;\n",
              "    }\n",
              "\n",
              "    .dataframe tbody tr th {\n",
              "        vertical-align: top;\n",
              "    }\n",
              "\n",
              "    .dataframe thead th {\n",
              "        text-align: right;\n",
              "    }\n",
              "</style>\n",
              "<table border=\"1\" class=\"dataframe\">\n",
              "  <thead>\n",
              "    <tr style=\"text-align: right;\">\n",
              "      <th></th>\n",
              "      <th>State</th>\n",
              "      <th>Population</th>\n",
              "      <th>Murder.Rate</th>\n",
              "      <th>Abbreviation</th>\n",
              "    </tr>\n",
              "  </thead>\n",
              "  <tbody>\n",
              "    <tr>\n",
              "      <th>47</th>\n",
              "      <td>West Virginia</td>\n",
              "      <td>1852994</td>\n",
              "      <td>4.0</td>\n",
              "      <td>WV</td>\n",
              "    </tr>\n",
              "    <tr>\n",
              "      <th>48</th>\n",
              "      <td>Wisconsin</td>\n",
              "      <td>5686986</td>\n",
              "      <td>2.9</td>\n",
              "      <td>WI</td>\n",
              "    </tr>\n",
              "    <tr>\n",
              "      <th>49</th>\n",
              "      <td>Wyoming</td>\n",
              "      <td>563626</td>\n",
              "      <td>2.7</td>\n",
              "      <td>WY</td>\n",
              "    </tr>\n",
              "  </tbody>\n",
              "</table>\n",
              "</div>\n",
              "    <div class=\"colab-df-buttons\">\n",
              "\n",
              "  <div class=\"colab-df-container\">\n",
              "    <button class=\"colab-df-convert\" onclick=\"convertToInteractive('df-82ca3a62-c557-4069-b497-4bfcd4286819')\"\n",
              "            title=\"Convert this dataframe to an interactive table.\"\n",
              "            style=\"display:none;\">\n",
              "\n",
              "  <svg xmlns=\"http://www.w3.org/2000/svg\" height=\"24px\" viewBox=\"0 -960 960 960\">\n",
              "    <path d=\"M120-120v-720h720v720H120Zm60-500h600v-160H180v160Zm220 220h160v-160H400v160Zm0 220h160v-160H400v160ZM180-400h160v-160H180v160Zm440 0h160v-160H620v160ZM180-180h160v-160H180v160Zm440 0h160v-160H620v160Z\"/>\n",
              "  </svg>\n",
              "    </button>\n",
              "\n",
              "  <style>\n",
              "    .colab-df-container {\n",
              "      display:flex;\n",
              "      gap: 12px;\n",
              "    }\n",
              "\n",
              "    .colab-df-convert {\n",
              "      background-color: #E8F0FE;\n",
              "      border: none;\n",
              "      border-radius: 50%;\n",
              "      cursor: pointer;\n",
              "      display: none;\n",
              "      fill: #1967D2;\n",
              "      height: 32px;\n",
              "      padding: 0 0 0 0;\n",
              "      width: 32px;\n",
              "    }\n",
              "\n",
              "    .colab-df-convert:hover {\n",
              "      background-color: #E2EBFA;\n",
              "      box-shadow: 0px 1px 2px rgba(60, 64, 67, 0.3), 0px 1px 3px 1px rgba(60, 64, 67, 0.15);\n",
              "      fill: #174EA6;\n",
              "    }\n",
              "\n",
              "    .colab-df-buttons div {\n",
              "      margin-bottom: 4px;\n",
              "    }\n",
              "\n",
              "    [theme=dark] .colab-df-convert {\n",
              "      background-color: #3B4455;\n",
              "      fill: #D2E3FC;\n",
              "    }\n",
              "\n",
              "    [theme=dark] .colab-df-convert:hover {\n",
              "      background-color: #434B5C;\n",
              "      box-shadow: 0px 1px 3px 1px rgba(0, 0, 0, 0.15);\n",
              "      filter: drop-shadow(0px 1px 2px rgba(0, 0, 0, 0.3));\n",
              "      fill: #FFFFFF;\n",
              "    }\n",
              "  </style>\n",
              "\n",
              "    <script>\n",
              "      const buttonEl =\n",
              "        document.querySelector('#df-82ca3a62-c557-4069-b497-4bfcd4286819 button.colab-df-convert');\n",
              "      buttonEl.style.display =\n",
              "        google.colab.kernel.accessAllowed ? 'block' : 'none';\n",
              "\n",
              "      async function convertToInteractive(key) {\n",
              "        const element = document.querySelector('#df-82ca3a62-c557-4069-b497-4bfcd4286819');\n",
              "        const dataTable =\n",
              "          await google.colab.kernel.invokeFunction('convertToInteractive',\n",
              "                                                    [key], {});\n",
              "        if (!dataTable) return;\n",
              "\n",
              "        const docLinkHtml = 'Like what you see? Visit the ' +\n",
              "          '<a target=\"_blank\" href=https://colab.research.google.com/notebooks/data_table.ipynb>data table notebook</a>'\n",
              "          + ' to learn more about interactive tables.';\n",
              "        element.innerHTML = '';\n",
              "        dataTable['output_type'] = 'display_data';\n",
              "        await google.colab.output.renderOutput(dataTable, element);\n",
              "        const docLink = document.createElement('div');\n",
              "        docLink.innerHTML = docLinkHtml;\n",
              "        element.appendChild(docLink);\n",
              "      }\n",
              "    </script>\n",
              "  </div>\n",
              "\n",
              "\n",
              "<div id=\"df-06521016-ead7-4959-86e6-c88413e0f911\">\n",
              "  <button class=\"colab-df-quickchart\" onclick=\"quickchart('df-06521016-ead7-4959-86e6-c88413e0f911')\"\n",
              "            title=\"Suggest charts\"\n",
              "            style=\"display:none;\">\n",
              "\n",
              "<svg xmlns=\"http://www.w3.org/2000/svg\" height=\"24px\"viewBox=\"0 0 24 24\"\n",
              "     width=\"24px\">\n",
              "    <g>\n",
              "        <path d=\"M19 3H5c-1.1 0-2 .9-2 2v14c0 1.1.9 2 2 2h14c1.1 0 2-.9 2-2V5c0-1.1-.9-2-2-2zM9 17H7v-7h2v7zm4 0h-2V7h2v10zm4 0h-2v-4h2v4z\"/>\n",
              "    </g>\n",
              "</svg>\n",
              "  </button>\n",
              "\n",
              "<style>\n",
              "  .colab-df-quickchart {\n",
              "      --bg-color: #E8F0FE;\n",
              "      --fill-color: #1967D2;\n",
              "      --hover-bg-color: #E2EBFA;\n",
              "      --hover-fill-color: #174EA6;\n",
              "      --disabled-fill-color: #AAA;\n",
              "      --disabled-bg-color: #DDD;\n",
              "  }\n",
              "\n",
              "  [theme=dark] .colab-df-quickchart {\n",
              "      --bg-color: #3B4455;\n",
              "      --fill-color: #D2E3FC;\n",
              "      --hover-bg-color: #434B5C;\n",
              "      --hover-fill-color: #FFFFFF;\n",
              "      --disabled-bg-color: #3B4455;\n",
              "      --disabled-fill-color: #666;\n",
              "  }\n",
              "\n",
              "  .colab-df-quickchart {\n",
              "    background-color: var(--bg-color);\n",
              "    border: none;\n",
              "    border-radius: 50%;\n",
              "    cursor: pointer;\n",
              "    display: none;\n",
              "    fill: var(--fill-color);\n",
              "    height: 32px;\n",
              "    padding: 0;\n",
              "    width: 32px;\n",
              "  }\n",
              "\n",
              "  .colab-df-quickchart:hover {\n",
              "    background-color: var(--hover-bg-color);\n",
              "    box-shadow: 0 1px 2px rgba(60, 64, 67, 0.3), 0 1px 3px 1px rgba(60, 64, 67, 0.15);\n",
              "    fill: var(--button-hover-fill-color);\n",
              "  }\n",
              "\n",
              "  .colab-df-quickchart-complete:disabled,\n",
              "  .colab-df-quickchart-complete:disabled:hover {\n",
              "    background-color: var(--disabled-bg-color);\n",
              "    fill: var(--disabled-fill-color);\n",
              "    box-shadow: none;\n",
              "  }\n",
              "\n",
              "  .colab-df-spinner {\n",
              "    border: 2px solid var(--fill-color);\n",
              "    border-color: transparent;\n",
              "    border-bottom-color: var(--fill-color);\n",
              "    animation:\n",
              "      spin 1s steps(1) infinite;\n",
              "  }\n",
              "\n",
              "  @keyframes spin {\n",
              "    0% {\n",
              "      border-color: transparent;\n",
              "      border-bottom-color: var(--fill-color);\n",
              "      border-left-color: var(--fill-color);\n",
              "    }\n",
              "    20% {\n",
              "      border-color: transparent;\n",
              "      border-left-color: var(--fill-color);\n",
              "      border-top-color: var(--fill-color);\n",
              "    }\n",
              "    30% {\n",
              "      border-color: transparent;\n",
              "      border-left-color: var(--fill-color);\n",
              "      border-top-color: var(--fill-color);\n",
              "      border-right-color: var(--fill-color);\n",
              "    }\n",
              "    40% {\n",
              "      border-color: transparent;\n",
              "      border-right-color: var(--fill-color);\n",
              "      border-top-color: var(--fill-color);\n",
              "    }\n",
              "    60% {\n",
              "      border-color: transparent;\n",
              "      border-right-color: var(--fill-color);\n",
              "    }\n",
              "    80% {\n",
              "      border-color: transparent;\n",
              "      border-right-color: var(--fill-color);\n",
              "      border-bottom-color: var(--fill-color);\n",
              "    }\n",
              "    90% {\n",
              "      border-color: transparent;\n",
              "      border-bottom-color: var(--fill-color);\n",
              "    }\n",
              "  }\n",
              "</style>\n",
              "\n",
              "  <script>\n",
              "    async function quickchart(key) {\n",
              "      const quickchartButtonEl =\n",
              "        document.querySelector('#' + key + ' button');\n",
              "      quickchartButtonEl.disabled = true;  // To prevent multiple clicks.\n",
              "      quickchartButtonEl.classList.add('colab-df-spinner');\n",
              "      try {\n",
              "        const charts = await google.colab.kernel.invokeFunction(\n",
              "            'suggestCharts', [key], {});\n",
              "      } catch (error) {\n",
              "        console.error('Error during call to suggestCharts:', error);\n",
              "      }\n",
              "      quickchartButtonEl.classList.remove('colab-df-spinner');\n",
              "      quickchartButtonEl.classList.add('colab-df-quickchart-complete');\n",
              "    }\n",
              "    (() => {\n",
              "      let quickchartButtonEl =\n",
              "        document.querySelector('#df-06521016-ead7-4959-86e6-c88413e0f911 button');\n",
              "      quickchartButtonEl.style.display =\n",
              "        google.colab.kernel.accessAllowed ? 'block' : 'none';\n",
              "    })();\n",
              "  </script>\n",
              "</div>\n",
              "\n",
              "    </div>\n",
              "  </div>\n"
            ],
            "application/vnd.google.colaboratory.intrinsic+json": {
              "type": "dataframe",
              "summary": "{\n  \"name\": \"estado\",\n  \"rows\": 3,\n  \"fields\": [\n    {\n      \"column\": \"State\",\n      \"properties\": {\n        \"dtype\": \"string\",\n        \"num_unique_values\": 3,\n        \"samples\": [\n          \"West Virginia\",\n          \"Wisconsin\",\n          \"Wyoming\"\n        ],\n        \"semantic_type\": \"\",\n        \"description\": \"\"\n      }\n    },\n    {\n      \"column\": \"Population\",\n      \"properties\": {\n        \"dtype\": \"number\",\n        \"std\": 2664919,\n        \"min\": 563626,\n        \"max\": 5686986,\n        \"num_unique_values\": 3,\n        \"samples\": [\n          1852994,\n          5686986,\n          563626\n        ],\n        \"semantic_type\": \"\",\n        \"description\": \"\"\n      }\n    },\n    {\n      \"column\": \"Murder.Rate\",\n      \"properties\": {\n        \"dtype\": \"number\",\n        \"std\": 0.7,\n        \"min\": 2.7,\n        \"max\": 4.0,\n        \"num_unique_values\": 3,\n        \"samples\": [\n          4.0,\n          2.9,\n          2.7\n        ],\n        \"semantic_type\": \"\",\n        \"description\": \"\"\n      }\n    },\n    {\n      \"column\": \"Abbreviation\",\n      \"properties\": {\n        \"dtype\": \"string\",\n        \"num_unique_values\": 3,\n        \"samples\": [\n          \"WV\",\n          \"WI\",\n          \"WY\"\n        ],\n        \"semantic_type\": \"\",\n        \"description\": \"\"\n      }\n    }\n  ]\n}"
            }
          },
          "metadata": {},
          "execution_count": 10
        }
      ]
    },
    {
      "cell_type": "code",
      "source": [
        "estado.sample(7)"
      ],
      "metadata": {
        "colab": {
          "base_uri": "https://localhost:8080/",
          "height": 269
        },
        "id": "e4HQxWrd4Dwe",
        "outputId": "010cf48a-c764-45fb-d6c6-792c7ab5ac85"
      },
      "execution_count": null,
      "outputs": [
        {
          "output_type": "execute_result",
          "data": {
            "text/plain": [
              "            State  Population  Murder.Rate Abbreviation\n",
              "23    Mississippi     2967297          8.6           MS\n",
              "2         Arizona     6392017          4.7           AZ\n",
              "30     New Mexico     2059179          4.8           NM\n",
              "18          Maine     1328361          1.6           ME\n",
              "3        Arkansas     2915918          5.6           AR\n",
              "47  West Virginia     1852994          4.0           WV\n",
              "12       Illinois    12830632          5.3           IL"
            ],
            "text/html": [
              "\n",
              "  <div id=\"df-d79721c2-72ce-4017-a3b3-f400b4357e5b\" class=\"colab-df-container\">\n",
              "    <div>\n",
              "<style scoped>\n",
              "    .dataframe tbody tr th:only-of-type {\n",
              "        vertical-align: middle;\n",
              "    }\n",
              "\n",
              "    .dataframe tbody tr th {\n",
              "        vertical-align: top;\n",
              "    }\n",
              "\n",
              "    .dataframe thead th {\n",
              "        text-align: right;\n",
              "    }\n",
              "</style>\n",
              "<table border=\"1\" class=\"dataframe\">\n",
              "  <thead>\n",
              "    <tr style=\"text-align: right;\">\n",
              "      <th></th>\n",
              "      <th>State</th>\n",
              "      <th>Population</th>\n",
              "      <th>Murder.Rate</th>\n",
              "      <th>Abbreviation</th>\n",
              "    </tr>\n",
              "  </thead>\n",
              "  <tbody>\n",
              "    <tr>\n",
              "      <th>23</th>\n",
              "      <td>Mississippi</td>\n",
              "      <td>2967297</td>\n",
              "      <td>8.6</td>\n",
              "      <td>MS</td>\n",
              "    </tr>\n",
              "    <tr>\n",
              "      <th>2</th>\n",
              "      <td>Arizona</td>\n",
              "      <td>6392017</td>\n",
              "      <td>4.7</td>\n",
              "      <td>AZ</td>\n",
              "    </tr>\n",
              "    <tr>\n",
              "      <th>30</th>\n",
              "      <td>New Mexico</td>\n",
              "      <td>2059179</td>\n",
              "      <td>4.8</td>\n",
              "      <td>NM</td>\n",
              "    </tr>\n",
              "    <tr>\n",
              "      <th>18</th>\n",
              "      <td>Maine</td>\n",
              "      <td>1328361</td>\n",
              "      <td>1.6</td>\n",
              "      <td>ME</td>\n",
              "    </tr>\n",
              "    <tr>\n",
              "      <th>3</th>\n",
              "      <td>Arkansas</td>\n",
              "      <td>2915918</td>\n",
              "      <td>5.6</td>\n",
              "      <td>AR</td>\n",
              "    </tr>\n",
              "    <tr>\n",
              "      <th>47</th>\n",
              "      <td>West Virginia</td>\n",
              "      <td>1852994</td>\n",
              "      <td>4.0</td>\n",
              "      <td>WV</td>\n",
              "    </tr>\n",
              "    <tr>\n",
              "      <th>12</th>\n",
              "      <td>Illinois</td>\n",
              "      <td>12830632</td>\n",
              "      <td>5.3</td>\n",
              "      <td>IL</td>\n",
              "    </tr>\n",
              "  </tbody>\n",
              "</table>\n",
              "</div>\n",
              "    <div class=\"colab-df-buttons\">\n",
              "\n",
              "  <div class=\"colab-df-container\">\n",
              "    <button class=\"colab-df-convert\" onclick=\"convertToInteractive('df-d79721c2-72ce-4017-a3b3-f400b4357e5b')\"\n",
              "            title=\"Convert this dataframe to an interactive table.\"\n",
              "            style=\"display:none;\">\n",
              "\n",
              "  <svg xmlns=\"http://www.w3.org/2000/svg\" height=\"24px\" viewBox=\"0 -960 960 960\">\n",
              "    <path d=\"M120-120v-720h720v720H120Zm60-500h600v-160H180v160Zm220 220h160v-160H400v160Zm0 220h160v-160H400v160ZM180-400h160v-160H180v160Zm440 0h160v-160H620v160ZM180-180h160v-160H180v160Zm440 0h160v-160H620v160Z\"/>\n",
              "  </svg>\n",
              "    </button>\n",
              "\n",
              "  <style>\n",
              "    .colab-df-container {\n",
              "      display:flex;\n",
              "      gap: 12px;\n",
              "    }\n",
              "\n",
              "    .colab-df-convert {\n",
              "      background-color: #E8F0FE;\n",
              "      border: none;\n",
              "      border-radius: 50%;\n",
              "      cursor: pointer;\n",
              "      display: none;\n",
              "      fill: #1967D2;\n",
              "      height: 32px;\n",
              "      padding: 0 0 0 0;\n",
              "      width: 32px;\n",
              "    }\n",
              "\n",
              "    .colab-df-convert:hover {\n",
              "      background-color: #E2EBFA;\n",
              "      box-shadow: 0px 1px 2px rgba(60, 64, 67, 0.3), 0px 1px 3px 1px rgba(60, 64, 67, 0.15);\n",
              "      fill: #174EA6;\n",
              "    }\n",
              "\n",
              "    .colab-df-buttons div {\n",
              "      margin-bottom: 4px;\n",
              "    }\n",
              "\n",
              "    [theme=dark] .colab-df-convert {\n",
              "      background-color: #3B4455;\n",
              "      fill: #D2E3FC;\n",
              "    }\n",
              "\n",
              "    [theme=dark] .colab-df-convert:hover {\n",
              "      background-color: #434B5C;\n",
              "      box-shadow: 0px 1px 3px 1px rgba(0, 0, 0, 0.15);\n",
              "      filter: drop-shadow(0px 1px 2px rgba(0, 0, 0, 0.3));\n",
              "      fill: #FFFFFF;\n",
              "    }\n",
              "  </style>\n",
              "\n",
              "    <script>\n",
              "      const buttonEl =\n",
              "        document.querySelector('#df-d79721c2-72ce-4017-a3b3-f400b4357e5b button.colab-df-convert');\n",
              "      buttonEl.style.display =\n",
              "        google.colab.kernel.accessAllowed ? 'block' : 'none';\n",
              "\n",
              "      async function convertToInteractive(key) {\n",
              "        const element = document.querySelector('#df-d79721c2-72ce-4017-a3b3-f400b4357e5b');\n",
              "        const dataTable =\n",
              "          await google.colab.kernel.invokeFunction('convertToInteractive',\n",
              "                                                    [key], {});\n",
              "        if (!dataTable) return;\n",
              "\n",
              "        const docLinkHtml = 'Like what you see? Visit the ' +\n",
              "          '<a target=\"_blank\" href=https://colab.research.google.com/notebooks/data_table.ipynb>data table notebook</a>'\n",
              "          + ' to learn more about interactive tables.';\n",
              "        element.innerHTML = '';\n",
              "        dataTable['output_type'] = 'display_data';\n",
              "        await google.colab.output.renderOutput(dataTable, element);\n",
              "        const docLink = document.createElement('div');\n",
              "        docLink.innerHTML = docLinkHtml;\n",
              "        element.appendChild(docLink);\n",
              "      }\n",
              "    </script>\n",
              "  </div>\n",
              "\n",
              "\n",
              "<div id=\"df-bef50f74-43db-41b5-9c24-ae688ecaa7bd\">\n",
              "  <button class=\"colab-df-quickchart\" onclick=\"quickchart('df-bef50f74-43db-41b5-9c24-ae688ecaa7bd')\"\n",
              "            title=\"Suggest charts\"\n",
              "            style=\"display:none;\">\n",
              "\n",
              "<svg xmlns=\"http://www.w3.org/2000/svg\" height=\"24px\"viewBox=\"0 0 24 24\"\n",
              "     width=\"24px\">\n",
              "    <g>\n",
              "        <path d=\"M19 3H5c-1.1 0-2 .9-2 2v14c0 1.1.9 2 2 2h14c1.1 0 2-.9 2-2V5c0-1.1-.9-2-2-2zM9 17H7v-7h2v7zm4 0h-2V7h2v10zm4 0h-2v-4h2v4z\"/>\n",
              "    </g>\n",
              "</svg>\n",
              "  </button>\n",
              "\n",
              "<style>\n",
              "  .colab-df-quickchart {\n",
              "      --bg-color: #E8F0FE;\n",
              "      --fill-color: #1967D2;\n",
              "      --hover-bg-color: #E2EBFA;\n",
              "      --hover-fill-color: #174EA6;\n",
              "      --disabled-fill-color: #AAA;\n",
              "      --disabled-bg-color: #DDD;\n",
              "  }\n",
              "\n",
              "  [theme=dark] .colab-df-quickchart {\n",
              "      --bg-color: #3B4455;\n",
              "      --fill-color: #D2E3FC;\n",
              "      --hover-bg-color: #434B5C;\n",
              "      --hover-fill-color: #FFFFFF;\n",
              "      --disabled-bg-color: #3B4455;\n",
              "      --disabled-fill-color: #666;\n",
              "  }\n",
              "\n",
              "  .colab-df-quickchart {\n",
              "    background-color: var(--bg-color);\n",
              "    border: none;\n",
              "    border-radius: 50%;\n",
              "    cursor: pointer;\n",
              "    display: none;\n",
              "    fill: var(--fill-color);\n",
              "    height: 32px;\n",
              "    padding: 0;\n",
              "    width: 32px;\n",
              "  }\n",
              "\n",
              "  .colab-df-quickchart:hover {\n",
              "    background-color: var(--hover-bg-color);\n",
              "    box-shadow: 0 1px 2px rgba(60, 64, 67, 0.3), 0 1px 3px 1px rgba(60, 64, 67, 0.15);\n",
              "    fill: var(--button-hover-fill-color);\n",
              "  }\n",
              "\n",
              "  .colab-df-quickchart-complete:disabled,\n",
              "  .colab-df-quickchart-complete:disabled:hover {\n",
              "    background-color: var(--disabled-bg-color);\n",
              "    fill: var(--disabled-fill-color);\n",
              "    box-shadow: none;\n",
              "  }\n",
              "\n",
              "  .colab-df-spinner {\n",
              "    border: 2px solid var(--fill-color);\n",
              "    border-color: transparent;\n",
              "    border-bottom-color: var(--fill-color);\n",
              "    animation:\n",
              "      spin 1s steps(1) infinite;\n",
              "  }\n",
              "\n",
              "  @keyframes spin {\n",
              "    0% {\n",
              "      border-color: transparent;\n",
              "      border-bottom-color: var(--fill-color);\n",
              "      border-left-color: var(--fill-color);\n",
              "    }\n",
              "    20% {\n",
              "      border-color: transparent;\n",
              "      border-left-color: var(--fill-color);\n",
              "      border-top-color: var(--fill-color);\n",
              "    }\n",
              "    30% {\n",
              "      border-color: transparent;\n",
              "      border-left-color: var(--fill-color);\n",
              "      border-top-color: var(--fill-color);\n",
              "      border-right-color: var(--fill-color);\n",
              "    }\n",
              "    40% {\n",
              "      border-color: transparent;\n",
              "      border-right-color: var(--fill-color);\n",
              "      border-top-color: var(--fill-color);\n",
              "    }\n",
              "    60% {\n",
              "      border-color: transparent;\n",
              "      border-right-color: var(--fill-color);\n",
              "    }\n",
              "    80% {\n",
              "      border-color: transparent;\n",
              "      border-right-color: var(--fill-color);\n",
              "      border-bottom-color: var(--fill-color);\n",
              "    }\n",
              "    90% {\n",
              "      border-color: transparent;\n",
              "      border-bottom-color: var(--fill-color);\n",
              "    }\n",
              "  }\n",
              "</style>\n",
              "\n",
              "  <script>\n",
              "    async function quickchart(key) {\n",
              "      const quickchartButtonEl =\n",
              "        document.querySelector('#' + key + ' button');\n",
              "      quickchartButtonEl.disabled = true;  // To prevent multiple clicks.\n",
              "      quickchartButtonEl.classList.add('colab-df-spinner');\n",
              "      try {\n",
              "        const charts = await google.colab.kernel.invokeFunction(\n",
              "            'suggestCharts', [key], {});\n",
              "      } catch (error) {\n",
              "        console.error('Error during call to suggestCharts:', error);\n",
              "      }\n",
              "      quickchartButtonEl.classList.remove('colab-df-spinner');\n",
              "      quickchartButtonEl.classList.add('colab-df-quickchart-complete');\n",
              "    }\n",
              "    (() => {\n",
              "      let quickchartButtonEl =\n",
              "        document.querySelector('#df-bef50f74-43db-41b5-9c24-ae688ecaa7bd button');\n",
              "      quickchartButtonEl.style.display =\n",
              "        google.colab.kernel.accessAllowed ? 'block' : 'none';\n",
              "    })();\n",
              "  </script>\n",
              "</div>\n",
              "\n",
              "    </div>\n",
              "  </div>\n"
            ],
            "application/vnd.google.colaboratory.intrinsic+json": {
              "type": "dataframe",
              "summary": "{\n  \"name\": \"estado\",\n  \"rows\": 7,\n  \"fields\": [\n    {\n      \"column\": \"State\",\n      \"properties\": {\n        \"dtype\": \"string\",\n        \"num_unique_values\": 7,\n        \"samples\": [\n          \"Mississippi\",\n          \"Arizona\",\n          \"West Virginia\"\n        ],\n        \"semantic_type\": \"\",\n        \"description\": \"\"\n      }\n    },\n    {\n      \"column\": \"Population\",\n      \"properties\": {\n        \"dtype\": \"number\",\n        \"std\": 4096158,\n        \"min\": 1328361,\n        \"max\": 12830632,\n        \"num_unique_values\": 7,\n        \"samples\": [\n          2967297,\n          6392017,\n          1852994\n        ],\n        \"semantic_type\": \"\",\n        \"description\": \"\"\n      }\n    },\n    {\n      \"column\": \"Murder.Rate\",\n      \"properties\": {\n        \"dtype\": \"number\",\n        \"std\": 2.0847518979942135,\n        \"min\": 1.6,\n        \"max\": 8.6,\n        \"num_unique_values\": 7,\n        \"samples\": [\n          8.6,\n          4.7,\n          4.0\n        ],\n        \"semantic_type\": \"\",\n        \"description\": \"\"\n      }\n    },\n    {\n      \"column\": \"Abbreviation\",\n      \"properties\": {\n        \"dtype\": \"string\",\n        \"num_unique_values\": 7,\n        \"samples\": [\n          \"MS\",\n          \"AZ\",\n          \"WV\"\n        ],\n        \"semantic_type\": \"\",\n        \"description\": \"\"\n      }\n    }\n  ]\n}"
            }
          },
          "metadata": {},
          "execution_count": 11
        }
      ]
    },
    {
      "cell_type": "markdown",
      "source": [
        "### Overview de la data\n",
        "Analizando las columnas presentes en el dataframe"
      ],
      "metadata": {
        "id": "fU3sV-2288BC"
      }
    },
    {
      "cell_type": "code",
      "source": [
        "estado.columns"
      ],
      "metadata": {
        "colab": {
          "base_uri": "https://localhost:8080/"
        },
        "id": "hb4aC7m69ASL",
        "outputId": "c08efc5d-bb7b-485f-96ea-3003dd4eb31e"
      },
      "execution_count": null,
      "outputs": [
        {
          "output_type": "execute_result",
          "data": {
            "text/plain": [
              "Index(['State', 'Population', 'Murder.Rate', 'Abbreviation'], dtype='object')"
            ]
          },
          "metadata": {},
          "execution_count": 47
        }
      ]
    },
    {
      "cell_type": "code",
      "source": [
        "list(estado.columns)#Convertir en lista el nombre de las columnas"
      ],
      "metadata": {
        "colab": {
          "base_uri": "https://localhost:8080/"
        },
        "id": "zwXkdEGm9ERa",
        "outputId": "f8b55760-4f8a-45d2-9c61-9cffc16918f6"
      },
      "execution_count": null,
      "outputs": [
        {
          "output_type": "execute_result",
          "data": {
            "text/plain": [
              "['State', 'Population', 'Murder.Rate', 'Abbreviation']"
            ]
          },
          "metadata": {},
          "execution_count": 48
        }
      ]
    },
    {
      "cell_type": "code",
      "source": [
        "estado.info()"
      ],
      "metadata": {
        "colab": {
          "base_uri": "https://localhost:8080/"
        },
        "id": "rg7eQkie9TaM",
        "outputId": "e1189ec6-c466-46ca-da00-8dfcdf4686b9"
      },
      "execution_count": null,
      "outputs": [
        {
          "output_type": "stream",
          "name": "stdout",
          "text": [
            "<class 'pandas.core.frame.DataFrame'>\n",
            "RangeIndex: 50 entries, 0 to 49\n",
            "Data columns (total 4 columns):\n",
            " #   Column        Non-Null Count  Dtype  \n",
            "---  ------        --------------  -----  \n",
            " 0   State         50 non-null     object \n",
            " 1   Population    50 non-null     int64  \n",
            " 2   Murder.Rate   50 non-null     float64\n",
            " 3   Abbreviation  50 non-null     object \n",
            "dtypes: float64(1), int64(1), object(2)\n",
            "memory usage: 1.7+ KB\n"
          ]
        }
      ]
    },
    {
      "cell_type": "code",
      "source": [
        "estado.describe()"
      ],
      "metadata": {
        "colab": {
          "base_uri": "https://localhost:8080/",
          "height": 300
        },
        "id": "KmEA2UqH9ZCX",
        "outputId": "73aeb9c0-de35-4366-8bef-41dd237e1fce"
      },
      "execution_count": null,
      "outputs": [
        {
          "output_type": "execute_result",
          "data": {
            "text/plain": [
              "         Population  Murder.Rate\n",
              "count  5.000000e+01    50.000000\n",
              "mean   6.162876e+06     4.066000\n",
              "std    6.848235e+06     1.915736\n",
              "min    5.636260e+05     0.900000\n",
              "25%    1.833004e+06     2.425000\n",
              "50%    4.436370e+06     4.000000\n",
              "75%    6.680312e+06     5.550000\n",
              "max    3.725396e+07    10.300000"
            ],
            "text/html": [
              "\n",
              "  <div id=\"df-743a19e2-7e77-4088-b058-c1e61379d9ac\" class=\"colab-df-container\">\n",
              "    <div>\n",
              "<style scoped>\n",
              "    .dataframe tbody tr th:only-of-type {\n",
              "        vertical-align: middle;\n",
              "    }\n",
              "\n",
              "    .dataframe tbody tr th {\n",
              "        vertical-align: top;\n",
              "    }\n",
              "\n",
              "    .dataframe thead th {\n",
              "        text-align: right;\n",
              "    }\n",
              "</style>\n",
              "<table border=\"1\" class=\"dataframe\">\n",
              "  <thead>\n",
              "    <tr style=\"text-align: right;\">\n",
              "      <th></th>\n",
              "      <th>Population</th>\n",
              "      <th>Murder.Rate</th>\n",
              "    </tr>\n",
              "  </thead>\n",
              "  <tbody>\n",
              "    <tr>\n",
              "      <th>count</th>\n",
              "      <td>5.000000e+01</td>\n",
              "      <td>50.000000</td>\n",
              "    </tr>\n",
              "    <tr>\n",
              "      <th>mean</th>\n",
              "      <td>6.162876e+06</td>\n",
              "      <td>4.066000</td>\n",
              "    </tr>\n",
              "    <tr>\n",
              "      <th>std</th>\n",
              "      <td>6.848235e+06</td>\n",
              "      <td>1.915736</td>\n",
              "    </tr>\n",
              "    <tr>\n",
              "      <th>min</th>\n",
              "      <td>5.636260e+05</td>\n",
              "      <td>0.900000</td>\n",
              "    </tr>\n",
              "    <tr>\n",
              "      <th>25%</th>\n",
              "      <td>1.833004e+06</td>\n",
              "      <td>2.425000</td>\n",
              "    </tr>\n",
              "    <tr>\n",
              "      <th>50%</th>\n",
              "      <td>4.436370e+06</td>\n",
              "      <td>4.000000</td>\n",
              "    </tr>\n",
              "    <tr>\n",
              "      <th>75%</th>\n",
              "      <td>6.680312e+06</td>\n",
              "      <td>5.550000</td>\n",
              "    </tr>\n",
              "    <tr>\n",
              "      <th>max</th>\n",
              "      <td>3.725396e+07</td>\n",
              "      <td>10.300000</td>\n",
              "    </tr>\n",
              "  </tbody>\n",
              "</table>\n",
              "</div>\n",
              "    <div class=\"colab-df-buttons\">\n",
              "\n",
              "  <div class=\"colab-df-container\">\n",
              "    <button class=\"colab-df-convert\" onclick=\"convertToInteractive('df-743a19e2-7e77-4088-b058-c1e61379d9ac')\"\n",
              "            title=\"Convert this dataframe to an interactive table.\"\n",
              "            style=\"display:none;\">\n",
              "\n",
              "  <svg xmlns=\"http://www.w3.org/2000/svg\" height=\"24px\" viewBox=\"0 -960 960 960\">\n",
              "    <path d=\"M120-120v-720h720v720H120Zm60-500h600v-160H180v160Zm220 220h160v-160H400v160Zm0 220h160v-160H400v160ZM180-400h160v-160H180v160Zm440 0h160v-160H620v160ZM180-180h160v-160H180v160Zm440 0h160v-160H620v160Z\"/>\n",
              "  </svg>\n",
              "    </button>\n",
              "\n",
              "  <style>\n",
              "    .colab-df-container {\n",
              "      display:flex;\n",
              "      gap: 12px;\n",
              "    }\n",
              "\n",
              "    .colab-df-convert {\n",
              "      background-color: #E8F0FE;\n",
              "      border: none;\n",
              "      border-radius: 50%;\n",
              "      cursor: pointer;\n",
              "      display: none;\n",
              "      fill: #1967D2;\n",
              "      height: 32px;\n",
              "      padding: 0 0 0 0;\n",
              "      width: 32px;\n",
              "    }\n",
              "\n",
              "    .colab-df-convert:hover {\n",
              "      background-color: #E2EBFA;\n",
              "      box-shadow: 0px 1px 2px rgba(60, 64, 67, 0.3), 0px 1px 3px 1px rgba(60, 64, 67, 0.15);\n",
              "      fill: #174EA6;\n",
              "    }\n",
              "\n",
              "    .colab-df-buttons div {\n",
              "      margin-bottom: 4px;\n",
              "    }\n",
              "\n",
              "    [theme=dark] .colab-df-convert {\n",
              "      background-color: #3B4455;\n",
              "      fill: #D2E3FC;\n",
              "    }\n",
              "\n",
              "    [theme=dark] .colab-df-convert:hover {\n",
              "      background-color: #434B5C;\n",
              "      box-shadow: 0px 1px 3px 1px rgba(0, 0, 0, 0.15);\n",
              "      filter: drop-shadow(0px 1px 2px rgba(0, 0, 0, 0.3));\n",
              "      fill: #FFFFFF;\n",
              "    }\n",
              "  </style>\n",
              "\n",
              "    <script>\n",
              "      const buttonEl =\n",
              "        document.querySelector('#df-743a19e2-7e77-4088-b058-c1e61379d9ac button.colab-df-convert');\n",
              "      buttonEl.style.display =\n",
              "        google.colab.kernel.accessAllowed ? 'block' : 'none';\n",
              "\n",
              "      async function convertToInteractive(key) {\n",
              "        const element = document.querySelector('#df-743a19e2-7e77-4088-b058-c1e61379d9ac');\n",
              "        const dataTable =\n",
              "          await google.colab.kernel.invokeFunction('convertToInteractive',\n",
              "                                                    [key], {});\n",
              "        if (!dataTable) return;\n",
              "\n",
              "        const docLinkHtml = 'Like what you see? Visit the ' +\n",
              "          '<a target=\"_blank\" href=https://colab.research.google.com/notebooks/data_table.ipynb>data table notebook</a>'\n",
              "          + ' to learn more about interactive tables.';\n",
              "        element.innerHTML = '';\n",
              "        dataTable['output_type'] = 'display_data';\n",
              "        await google.colab.output.renderOutput(dataTable, element);\n",
              "        const docLink = document.createElement('div');\n",
              "        docLink.innerHTML = docLinkHtml;\n",
              "        element.appendChild(docLink);\n",
              "      }\n",
              "    </script>\n",
              "  </div>\n",
              "\n",
              "\n",
              "<div id=\"df-9c70ba6b-761c-47d8-a1bb-2817c0e02dce\">\n",
              "  <button class=\"colab-df-quickchart\" onclick=\"quickchart('df-9c70ba6b-761c-47d8-a1bb-2817c0e02dce')\"\n",
              "            title=\"Suggest charts\"\n",
              "            style=\"display:none;\">\n",
              "\n",
              "<svg xmlns=\"http://www.w3.org/2000/svg\" height=\"24px\"viewBox=\"0 0 24 24\"\n",
              "     width=\"24px\">\n",
              "    <g>\n",
              "        <path d=\"M19 3H5c-1.1 0-2 .9-2 2v14c0 1.1.9 2 2 2h14c1.1 0 2-.9 2-2V5c0-1.1-.9-2-2-2zM9 17H7v-7h2v7zm4 0h-2V7h2v10zm4 0h-2v-4h2v4z\"/>\n",
              "    </g>\n",
              "</svg>\n",
              "  </button>\n",
              "\n",
              "<style>\n",
              "  .colab-df-quickchart {\n",
              "      --bg-color: #E8F0FE;\n",
              "      --fill-color: #1967D2;\n",
              "      --hover-bg-color: #E2EBFA;\n",
              "      --hover-fill-color: #174EA6;\n",
              "      --disabled-fill-color: #AAA;\n",
              "      --disabled-bg-color: #DDD;\n",
              "  }\n",
              "\n",
              "  [theme=dark] .colab-df-quickchart {\n",
              "      --bg-color: #3B4455;\n",
              "      --fill-color: #D2E3FC;\n",
              "      --hover-bg-color: #434B5C;\n",
              "      --hover-fill-color: #FFFFFF;\n",
              "      --disabled-bg-color: #3B4455;\n",
              "      --disabled-fill-color: #666;\n",
              "  }\n",
              "\n",
              "  .colab-df-quickchart {\n",
              "    background-color: var(--bg-color);\n",
              "    border: none;\n",
              "    border-radius: 50%;\n",
              "    cursor: pointer;\n",
              "    display: none;\n",
              "    fill: var(--fill-color);\n",
              "    height: 32px;\n",
              "    padding: 0;\n",
              "    width: 32px;\n",
              "  }\n",
              "\n",
              "  .colab-df-quickchart:hover {\n",
              "    background-color: var(--hover-bg-color);\n",
              "    box-shadow: 0 1px 2px rgba(60, 64, 67, 0.3), 0 1px 3px 1px rgba(60, 64, 67, 0.15);\n",
              "    fill: var(--button-hover-fill-color);\n",
              "  }\n",
              "\n",
              "  .colab-df-quickchart-complete:disabled,\n",
              "  .colab-df-quickchart-complete:disabled:hover {\n",
              "    background-color: var(--disabled-bg-color);\n",
              "    fill: var(--disabled-fill-color);\n",
              "    box-shadow: none;\n",
              "  }\n",
              "\n",
              "  .colab-df-spinner {\n",
              "    border: 2px solid var(--fill-color);\n",
              "    border-color: transparent;\n",
              "    border-bottom-color: var(--fill-color);\n",
              "    animation:\n",
              "      spin 1s steps(1) infinite;\n",
              "  }\n",
              "\n",
              "  @keyframes spin {\n",
              "    0% {\n",
              "      border-color: transparent;\n",
              "      border-bottom-color: var(--fill-color);\n",
              "      border-left-color: var(--fill-color);\n",
              "    }\n",
              "    20% {\n",
              "      border-color: transparent;\n",
              "      border-left-color: var(--fill-color);\n",
              "      border-top-color: var(--fill-color);\n",
              "    }\n",
              "    30% {\n",
              "      border-color: transparent;\n",
              "      border-left-color: var(--fill-color);\n",
              "      border-top-color: var(--fill-color);\n",
              "      border-right-color: var(--fill-color);\n",
              "    }\n",
              "    40% {\n",
              "      border-color: transparent;\n",
              "      border-right-color: var(--fill-color);\n",
              "      border-top-color: var(--fill-color);\n",
              "    }\n",
              "    60% {\n",
              "      border-color: transparent;\n",
              "      border-right-color: var(--fill-color);\n",
              "    }\n",
              "    80% {\n",
              "      border-color: transparent;\n",
              "      border-right-color: var(--fill-color);\n",
              "      border-bottom-color: var(--fill-color);\n",
              "    }\n",
              "    90% {\n",
              "      border-color: transparent;\n",
              "      border-bottom-color: var(--fill-color);\n",
              "    }\n",
              "  }\n",
              "</style>\n",
              "\n",
              "  <script>\n",
              "    async function quickchart(key) {\n",
              "      const quickchartButtonEl =\n",
              "        document.querySelector('#' + key + ' button');\n",
              "      quickchartButtonEl.disabled = true;  // To prevent multiple clicks.\n",
              "      quickchartButtonEl.classList.add('colab-df-spinner');\n",
              "      try {\n",
              "        const charts = await google.colab.kernel.invokeFunction(\n",
              "            'suggestCharts', [key], {});\n",
              "      } catch (error) {\n",
              "        console.error('Error during call to suggestCharts:', error);\n",
              "      }\n",
              "      quickchartButtonEl.classList.remove('colab-df-spinner');\n",
              "      quickchartButtonEl.classList.add('colab-df-quickchart-complete');\n",
              "    }\n",
              "    (() => {\n",
              "      let quickchartButtonEl =\n",
              "        document.querySelector('#df-9c70ba6b-761c-47d8-a1bb-2817c0e02dce button');\n",
              "      quickchartButtonEl.style.display =\n",
              "        google.colab.kernel.accessAllowed ? 'block' : 'none';\n",
              "    })();\n",
              "  </script>\n",
              "</div>\n",
              "\n",
              "    </div>\n",
              "  </div>\n"
            ],
            "application/vnd.google.colaboratory.intrinsic+json": {
              "type": "dataframe",
              "summary": "{\n  \"name\": \"estado\",\n  \"rows\": 8,\n  \"fields\": [\n    {\n      \"column\": \"Population\",\n      \"properties\": {\n        \"dtype\": \"number\",\n        \"std\": 12143552.805767784,\n        \"min\": 50.0,\n        \"max\": 37253956.0,\n        \"num_unique_values\": 8,\n        \"samples\": [\n          6162876.3,\n          4436369.5,\n          50.0\n        ],\n        \"semantic_type\": \"\",\n        \"description\": \"\"\n      }\n    },\n    {\n      \"column\": \"Murder.Rate\",\n      \"properties\": {\n        \"dtype\": \"number\",\n        \"std\": 16.46017669001848,\n        \"min\": 0.9,\n        \"max\": 50.0,\n        \"num_unique_values\": 8,\n        \"samples\": [\n          4.066,\n          4.0,\n          50.0\n        ],\n        \"semantic_type\": \"\",\n        \"description\": \"\"\n      }\n    }\n  ]\n}"
            }
          },
          "metadata": {},
          "execution_count": 51
        }
      ]
    },
    {
      "cell_type": "markdown",
      "source": [
        "##2. Estimando las tasas de población y asesinatos"
      ],
      "metadata": {
        "id": "oaWIAyjX6ibD"
      }
    },
    {
      "cell_type": "code",
      "source": [
        "estado[\"Population\"].mean()"
      ],
      "metadata": {
        "colab": {
          "base_uri": "https://localhost:8080/"
        },
        "id": "GsSxpCTt4Jbd",
        "outputId": "f7bd5b85-e81a-4aed-eeb1-dfd4210b3fd6"
      },
      "execution_count": null,
      "outputs": [
        {
          "output_type": "execute_result",
          "data": {
            "text/plain": [
              "6162876.3"
            ]
          },
          "metadata": {},
          "execution_count": 30
        }
      ]
    },
    {
      "cell_type": "code",
      "source": [
        "trim_mean(estado.Population,0.1) #quiero contar el 10% de los datos"
      ],
      "metadata": {
        "colab": {
          "base_uri": "https://localhost:8080/"
        },
        "id": "qias_iA967ml",
        "outputId": "b20ece74-7baf-4a3e-8e65-6bb5fbf07ea4"
      },
      "execution_count": null,
      "outputs": [
        {
          "output_type": "execute_result",
          "data": {
            "text/plain": [
              "4783697.125"
            ]
          },
          "metadata": {},
          "execution_count": 32
        }
      ]
    },
    {
      "cell_type": "code",
      "source": [
        "estado.Population.median()"
      ],
      "metadata": {
        "colab": {
          "base_uri": "https://localhost:8080/"
        },
        "id": "H4RvCMgg61US",
        "outputId": "0c64f38d-65a9-493b-d50d-99e3e6ac8984"
      },
      "execution_count": null,
      "outputs": [
        {
          "output_type": "execute_result",
          "data": {
            "text/plain": [
              "4436369.5"
            ]
          },
          "metadata": {},
          "execution_count": 31
        }
      ]
    },
    {
      "cell_type": "code",
      "source": [
        "estado[\"Murder.Rate\"].mean()"
      ],
      "metadata": {
        "colab": {
          "base_uri": "https://localhost:8080/"
        },
        "id": "FI54s6dK7TUa",
        "outputId": "25630216-240a-4672-d4b3-a8186916f5b0"
      },
      "execution_count": null,
      "outputs": [
        {
          "output_type": "execute_result",
          "data": {
            "text/plain": [
              "4.066"
            ]
          },
          "metadata": {},
          "execution_count": 33
        }
      ]
    },
    {
      "cell_type": "code",
      "source": [
        "#Media ponderada de asesinatos\n",
        "np.average(estado[\"Murder.Rate\"],weights=estado.Population)"
      ],
      "metadata": {
        "colab": {
          "base_uri": "https://localhost:8080/"
        },
        "id": "aDz0Johj7Zwl",
        "outputId": "c9e931df-b749-43a6-a8d8-a0566ec9d9ec"
      },
      "execution_count": null,
      "outputs": [
        {
          "output_type": "execute_result",
          "data": {
            "text/plain": [
              "4.445833981123393"
            ]
          },
          "metadata": {},
          "execution_count": 44
        }
      ]
    },
    {
      "cell_type": "code",
      "source": [
        "#Mediana ponderada de asesinatos\n",
        "wquantiles.median(estado.Population,weights=estado.Population)"
      ],
      "metadata": {
        "colab": {
          "base_uri": "https://localhost:8080/"
        },
        "id": "8ijNz8Du8M4I",
        "outputId": "88fc9817-2b5c-4161-f709-6037111d2409"
      },
      "execution_count": null,
      "outputs": [
        {
          "output_type": "execute_result",
          "data": {
            "text/plain": [
              "9660802.03629772"
            ]
          },
          "metadata": {},
          "execution_count": 45
        }
      ]
    },
    {
      "cell_type": "code",
      "source": [
        "estado[\"Murder.Rate\"].plot.line()"
      ],
      "metadata": {
        "colab": {
          "base_uri": "https://localhost:8080/",
          "height": 447
        },
        "id": "9FUvzayl9wqd",
        "outputId": "b2d9ea04-b7eb-4c4a-8a26-3a94b3db7334"
      },
      "execution_count": null,
      "outputs": [
        {
          "output_type": "execute_result",
          "data": {
            "text/plain": [
              "<Axes: >"
            ]
          },
          "metadata": {},
          "execution_count": 52
        },
        {
          "output_type": "display_data",
          "data": {
            "text/plain": [
              "<Figure size 640x480 with 1 Axes>"
            ],
            "image/png": "[encoded data removed]"
          },
          "metadata": {}
        }
      ]
    },
    {
      "cell_type": "code",
      "source": [
        "estado[\"Murder.Rate\"].plot.bar()"
      ],
      "metadata": {
        "colab": {
          "base_uri": "https://localhost:8080/",
          "height": 451
        },
        "id": "FkrhbuGj98R3",
        "outputId": "d53e762c-f3fc-443f-e869-11d109a51148"
      },
      "execution_count": null,
      "outputs": [
        {
          "output_type": "execute_result",
          "data": {
            "text/plain": [
              "<Axes: >"
            ]
          },
          "metadata": {},
          "execution_count": 53
        },
        {
          "output_type": "display_data",
          "data": {
            "text/plain": [
              "<Figure size 640x480 with 1 Axes>"
            ],
            "image/png": "[encoded data removed]"
          },
          "metadata": {}
        }
      ]
    },
    {
      "cell_type": "code",
      "source": [
        "estado[\"Murder.Rate\"].plot.bar(color=\"orange\")"
      ],
      "metadata": {
        "colab": {
          "base_uri": "https://localhost:8080/",
          "height": 451
        },
        "id": "9QxCWiuh9_cQ",
        "outputId": "69d15ddc-cb08-4fda-c3b1-d708701146e4"
      },
      "execution_count": null,
      "outputs": [
        {
          "output_type": "execute_result",
          "data": {
            "text/plain": [
              "<Axes: >"
            ]
          },
          "metadata": {},
          "execution_count": 55
        },
        {
          "output_type": "display_data",
          "data": {
            "text/plain": [
              "<Figure size 640x480 with 1 Axes>"
            ],
            "image/png": "[encoded data removed]"
          },
          "metadata": {}
        }
      ]
    },
    {
      "cell_type": "code",
      "source": [
        "ax=(estado.Population/1_000_000).plot.hist(figsize=(4,4))\n",
        "ax.set_xlabel(\"Población [millones]\")\n",
        "\n",
        "plt.tight_layout()\n",
        "plt.show()"
      ],
      "metadata": {
        "colab": {
          "base_uri": "https://localhost:8080/",
          "height": 406
        },
        "id": "Zleq5Ein_jvd",
        "outputId": "7bbe7e05-6367-4478-a096-e66345815087"
      },
      "execution_count": null,
      "outputs": [
        {
          "output_type": "display_data",
          "data": {
            "text/plain": [
              "<Figure size 400x400 with 1 Axes>"
            ],
            "image/png": "[encoded data removed]"
          },
          "metadata": {}
        }
      ]
    },
    {
      "cell_type": "code",
      "source": [
        "estado.columns"
      ],
      "metadata": {
        "colab": {
          "base_uri": "https://localhost:8080/"
        },
        "id": "6AZtfWbGAUEm",
        "outputId": "47894487-f6f4-4840-ed7d-612562caee23"
      },
      "execution_count": null,
      "outputs": [
        {
          "output_type": "execute_result",
          "data": {
            "text/plain": [
              "Index(['State', 'Population', 'Murder.Rate', 'Abbreviation'], dtype='object')"
            ]
          },
          "metadata": {},
          "execution_count": 67
        }
      ]
    },
    {
      "cell_type": "code",
      "source": [
        "ax=(estado[\"Murder.Rate\"]).plot.hist(figsize=(4,4))\n",
        "ax.set_xlabel(\"Tasa de homicidio\")\n",
        "\n",
        "plt.tight_layout()\n",
        "plt.show()"
      ],
      "metadata": {
        "colab": {
          "base_uri": "https://localhost:8080/",
          "height": 407
        },
        "id": "1dN4NQv3AH0c",
        "outputId": "7c3f7443-dfe3-4000-b158-a9ae2c377747"
      },
      "execution_count": null,
      "outputs": [
        {
          "output_type": "display_data",
          "data": {
            "text/plain": [
              "<Figure size 400x400 with 1 Axes>"
            ],
            "image/png": "[encoded data removed]"
          },
          "metadata": {}
        }
      ]
    },
    {
      "cell_type": "code",
      "source": [
        "analisis=estado.head()\n",
        "g=sns.FacetGrid(analisis,col=\"State\")\n",
        "g.map(sns.distplot,\"Murder.Rate\")"
      ],
      "metadata": {
        "colab": {
          "base_uri": "https://localhost:8080/",
          "height": 1000
        },
        "id": "Zi24RTQU-V_G",
        "outputId": "340fae40-e472-4e1e-8aa1-9e13019485ef"
      },
      "execution_count": null,
      "outputs": [
        {
          "output_type": "stream",
          "name": "stderr",
          "text": [
            "/usr/local/lib/python3.10/dist-packages/seaborn/axisgrid.py:854: UserWarning: \n",
            "\n",
            "`distplot` is a deprecated function and will be removed in seaborn v0.14.0.\n",
            "\n",
            "Please adapt your code to use either `displot` (a figure-level function with\n",
            "similar flexibility) or `histplot` (an axes-level function for histograms).\n",
            "\n",
            "For a guide to updating your code to use the new functions, please see\n",
            "https://gist.github.com/mwaskom/de44147ed2974457ad6372750bbe5751\n",
            "\n",
            "  func(*plot_args, **plot_kwargs)\n",
            "/usr/local/lib/python3.10/dist-packages/seaborn/distributions.py:2496: UserWarning: Dataset has 0 variance; skipping density estimate. Pass `warn_singular=False` to disable this warning.\n",
            "  kdeplot(**{axis: a}, ax=ax, color=kde_color, **kde_kws)\n",
            "/usr/local/lib/python3.10/dist-packages/seaborn/axisgrid.py:854: UserWarning: \n",
            "\n",
            "`distplot` is a deprecated function and will be removed in seaborn v0.14.0.\n",
            "\n",
            "Please adapt your code to use either `displot` (a figure-level function with\n",
            "similar flexibility) or `histplot` (an axes-level function for histograms).\n",
            "\n",
            "For a guide to updating your code to use the new functions, please see\n",
            "https://gist.github.com/mwaskom/de44147ed2974457ad6372750bbe5751\n",
            "\n",
            "  func(*plot_args, **plot_kwargs)\n",
            "/usr/local/lib/python3.10/dist-packages/seaborn/distributions.py:2496: UserWarning: Dataset has 0 variance; skipping density estimate. Pass `warn_singular=False` to disable this warning.\n",
            "  kdeplot(**{axis: a}, ax=ax, color=kde_color, **kde_kws)\n",
            "/usr/local/lib/python3.10/dist-packages/seaborn/axisgrid.py:854: UserWarning: \n",
            "\n",
            "`distplot` is a deprecated function and will be removed in seaborn v0.14.0.\n",
            "\n",
            "Please adapt your code to use either `displot` (a figure-level function with\n",
            "similar flexibility) or `histplot` (an axes-level function for histograms).\n",
            "\n",
            "For a guide to updating your code to use the new functions, please see\n",
            "https://gist.github.com/mwaskom/de44147ed2974457ad6372750bbe5751\n",
            "\n",
            "  func(*plot_args, **plot_kwargs)\n",
            "/usr/local/lib/python3.10/dist-packages/seaborn/distributions.py:2496: UserWarning: Dataset has 0 variance; skipping density estimate. Pass `warn_singular=False` to disable this warning.\n",
            "  kdeplot(**{axis: a}, ax=ax, color=kde_color, **kde_kws)\n",
            "/usr/local/lib/python3.10/dist-packages/seaborn/axisgrid.py:854: UserWarning: \n",
            "\n",
            "`distplot` is a deprecated function and will be removed in seaborn v0.14.0.\n",
            "\n",
            "Please adapt your code to use either `displot` (a figure-level function with\n",
            "similar flexibility) or `histplot` (an axes-level function for histograms).\n",
            "\n",
            "For a guide to updating your code to use the new functions, please see\n",
            "https://gist.github.com/mwaskom/de44147ed2974457ad6372750bbe5751\n",
            "\n",
            "  func(*plot_args, **plot_kwargs)\n",
            "/usr/local/lib/python3.10/dist-packages/seaborn/distributions.py:2496: UserWarning: Dataset has 0 variance; skipping density estimate. Pass `warn_singular=False` to disable this warning.\n",
            "  kdeplot(**{axis: a}, ax=ax, color=kde_color, **kde_kws)\n",
            "/usr/local/lib/python3.10/dist-packages/seaborn/axisgrid.py:854: UserWarning: \n",
            "\n",
            "`distplot` is a deprecated function and will be removed in seaborn v0.14.0.\n",
            "\n",
            "Please adapt your code to use either `displot` (a figure-level function with\n",
            "similar flexibility) or `histplot` (an axes-level function for histograms).\n",
            "\n",
            "For a guide to updating your code to use the new functions, please see\n",
            "https://gist.github.com/mwaskom/de44147ed2974457ad6372750bbe5751\n",
            "\n",
            "  func(*plot_args, **plot_kwargs)\n",
            "/usr/local/lib/python3.10/dist-packages/seaborn/distributions.py:2496: UserWarning: Dataset has 0 variance; skipping density estimate. Pass `warn_singular=False` to disable this warning.\n",
            "  kdeplot(**{axis: a}, ax=ax, color=kde_color, **kde_kws)\n"
          ]
        },
        {
          "output_type": "execute_result",
          "data": {
            "text/plain": [
              "<seaborn.axisgrid.FacetGrid at 0x7c2e4afffb80>"
            ]
          },
          "metadata": {},
          "execution_count": 60
        },
        {
          "output_type": "display_data",
          "data": {
            "text/plain": [
              "<Figure size 1500x300 with 5 Axes>"
            ],
            "image/png": "[encoded data removed]"
          },
          "metadata": {}
        }
      ]
    },
    {
      "cell_type": "markdown",
      "source": [
        "#ESTIMACIÓN DE LA VARIABILIDAD\n",
        "Mide el grado de agrupación o dispersión de los valores de los datos.\n",
        "\n",
        "##Términos claves de métricas de variabilidad\n"
      ],
      "metadata": {
        "id": "3iaudV8-TDTW"
      }
    },
    {
      "cell_type": "markdown",
      "source": [
        "![image.png](data:image/png;base64,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)"
      ],
      "metadata": {
        "id": "kuQVfeGsdn1T"
      }
    },
    {
      "cell_type": "code",
      "source": [
        "#Consiguiendo el dataset directamente desde google drive. Para ello,\n",
        "#se debe dar permisos a colab de ingresar a google drive\n",
        "from google.colab import drive\n",
        "drive.mount('/content/drive')"
      ],
      "metadata": {
        "colab": {
          "base_uri": "https://localhost:8080/"
        },
        "id": "kJjDsKcSZ1rR",
        "outputId": "a7d689e3-bb47-480e-ebf1-f212e3d1b9eb"
      },
      "execution_count": null,
      "outputs": [
        {
          "output_type": "stream",
          "name": "stdout",
          "text": [
            "Mounted at /content/drive\n"
          ]
        }
      ]
    },
    {
      "cell_type": "markdown",
      "source": [
        "Para este caso, se cargarán los datos desde google drive, por lo cual aconsejo crear una carpeta en Colab Notebooks en donde se ubicarán los datasets de trabajo. En mi caso, mi carpeta se llama ciencia de datos."
      ],
      "metadata": {
        "id": "t_MzA8jbbnBA"
      }
    },
    {
      "cell_type": "markdown",
      "source": [
        "![image.png](data:image/png;base64,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)"
      ],
      "metadata": {
        "id": "_eJ4wWX9blSs"
      }
    },
    {
      "cell_type": "markdown",
      "source": [
        "Una vez realizada la activación de google drive, se debe ubicar la carpeta y copiar la ubicación del dataset\n",
        "![image.png](data:image/png;base64,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)"
      ],
      "metadata": {
        "id": "51Xg70nvbzAB"
      }
    },
    {
      "cell_type": "code",
      "source": [
        "data=pd.read_csv(\"/content/drive/MyDrive/Colab Notebooks/Ciencia de datos/state.csv\")"
      ],
      "metadata": {
        "id": "j4H9HZyPW9L-"
      },
      "execution_count": null,
      "outputs": []
    },
    {
      "cell_type": "code",
      "source": [
        "data.head()"
      ],
      "metadata": {
        "colab": {
          "base_uri": "https://localhost:8080/",
          "height": 206
        },
        "id": "3busrL1OcYoY",
        "outputId": "9baced9b-6a4e-4a9a-fd42-e62c230a0dcc"
      },
      "execution_count": null,
      "outputs": [
        {
          "output_type": "execute_result",
          "data": {
            "text/plain": [
              "        State  Population  Murder.Rate Abbreviation\n",
              "0     Alabama     4779736          5.7           AL\n",
              "1      Alaska      710231          5.6           AK\n",
              "2     Arizona     6392017          4.7           AZ\n",
              "3    Arkansas     2915918          5.6           AR\n",
              "4  California    37253956          4.4           CA"
            ],
            "text/html": [
              "\n",
              "  <div id=\"df-94b2082c-6ed7-4459-be7a-0b720a9fe767\" class=\"colab-df-container\">\n",
              "    <div>\n",
              "<style scoped>\n",
              "    .dataframe tbody tr th:only-of-type {\n",
              "        vertical-align: middle;\n",
              "    }\n",
              "\n",
              "    .dataframe tbody tr th {\n",
              "        vertical-align: top;\n",
              "    }\n",
              "\n",
              "    .dataframe thead th {\n",
              "        text-align: right;\n",
              "    }\n",
              "</style>\n",
              "<table border=\"1\" class=\"dataframe\">\n",
              "  <thead>\n",
              "    <tr style=\"text-align: right;\">\n",
              "      <th></th>\n",
              "      <th>State</th>\n",
              "      <th>Population</th>\n",
              "      <th>Murder.Rate</th>\n",
              "      <th>Abbreviation</th>\n",
              "    </tr>\n",
              "  </thead>\n",
              "  <tbody>\n",
              "    <tr>\n",
              "      <th>0</th>\n",
              "      <td>Alabama</td>\n",
              "      <td>4779736</td>\n",
              "      <td>5.7</td>\n",
              "      <td>AL</td>\n",
              "    </tr>\n",
              "    <tr>\n",
              "      <th>1</th>\n",
              "      <td>Alaska</td>\n",
              "      <td>710231</td>\n",
              "      <td>5.6</td>\n",
              "      <td>AK</td>\n",
              "    </tr>\n",
              "    <tr>\n",
              "      <th>2</th>\n",
              "      <td>Arizona</td>\n",
              "      <td>6392017</td>\n",
              "      <td>4.7</td>\n",
              "      <td>AZ</td>\n",
              "    </tr>\n",
              "    <tr>\n",
              "      <th>3</th>\n",
              "      <td>Arkansas</td>\n",
              "      <td>2915918</td>\n",
              "      <td>5.6</td>\n",
              "      <td>AR</td>\n",
              "    </tr>\n",
              "    <tr>\n",
              "      <th>4</th>\n",
              "      <td>California</td>\n",
              "      <td>37253956</td>\n",
              "      <td>4.4</td>\n",
              "      <td>CA</td>\n",
              "    </tr>\n",
              "  </tbody>\n",
              "</table>\n",
              "</div>\n",
              "    <div class=\"colab-df-buttons\">\n",
              "\n",
              "  <div class=\"colab-df-container\">\n",
              "    <button class=\"colab-df-convert\" onclick=\"convertToInteractive('df-94b2082c-6ed7-4459-be7a-0b720a9fe767')\"\n",
              "            title=\"Convert this dataframe to an interactive table.\"\n",
              "            style=\"display:none;\">\n",
              "\n",
              "  <svg xmlns=\"http://www.w3.org/2000/svg\" height=\"24px\" viewBox=\"0 -960 960 960\">\n",
              "    <path d=\"M120-120v-720h720v720H120Zm60-500h600v-160H180v160Zm220 220h160v-160H400v160Zm0 220h160v-160H400v160ZM180-400h160v-160H180v160Zm440 0h160v-160H620v160ZM180-180h160v-160H180v160Zm440 0h160v-160H620v160Z\"/>\n",
              "  </svg>\n",
              "    </button>\n",
              "\n",
              "  <style>\n",
              "    .colab-df-container {\n",
              "      display:flex;\n",
              "      gap: 12px;\n",
              "    }\n",
              "\n",
              "    .colab-df-convert {\n",
              "      background-color: #E8F0FE;\n",
              "      border: none;\n",
              "      border-radius: 50%;\n",
              "      cursor: pointer;\n",
              "      display: none;\n",
              "      fill: #1967D2;\n",
              "      height: 32px;\n",
              "      padding: 0 0 0 0;\n",
              "      width: 32px;\n",
              "    }\n",
              "\n",
              "    .colab-df-convert:hover {\n",
              "      background-color: #E2EBFA;\n",
              "      box-shadow: 0px 1px 2px rgba(60, 64, 67, 0.3), 0px 1px 3px 1px rgba(60, 64, 67, 0.15);\n",
              "      fill: #174EA6;\n",
              "    }\n",
              "\n",
              "    .colab-df-buttons div {\n",
              "      margin-bottom: 4px;\n",
              "    }\n",
              "\n",
              "    [theme=dark] .colab-df-convert {\n",
              "      background-color: #3B4455;\n",
              "      fill: #D2E3FC;\n",
              "    }\n",
              "\n",
              "    [theme=dark] .colab-df-convert:hover {\n",
              "      background-color: #434B5C;\n",
              "      box-shadow: 0px 1px 3px 1px rgba(0, 0, 0, 0.15);\n",
              "      filter: drop-shadow(0px 1px 2px rgba(0, 0, 0, 0.3));\n",
              "      fill: #FFFFFF;\n",
              "    }\n",
              "  </style>\n",
              "\n",
              "    <script>\n",
              "      const buttonEl =\n",
              "        document.querySelector('#df-94b2082c-6ed7-4459-be7a-0b720a9fe767 button.colab-df-convert');\n",
              "      buttonEl.style.display =\n",
              "        google.colab.kernel.accessAllowed ? 'block' : 'none';\n",
              "\n",
              "      async function convertToInteractive(key) {\n",
              "        const element = document.querySelector('#df-94b2082c-6ed7-4459-be7a-0b720a9fe767');\n",
              "        const dataTable =\n",
              "          await google.colab.kernel.invokeFunction('convertToInteractive',\n",
              "                                                    [key], {});\n",
              "        if (!dataTable) return;\n",
              "\n",
              "        const docLinkHtml = 'Like what you see? Visit the ' +\n",
              "          '<a target=\"_blank\" href=https://colab.research.google.com/notebooks/data_table.ipynb>data table notebook</a>'\n",
              "          + ' to learn more about interactive tables.';\n",
              "        element.innerHTML = '';\n",
              "        dataTable['output_type'] = 'display_data';\n",
              "        await google.colab.output.renderOutput(dataTable, element);\n",
              "        const docLink = document.createElement('div');\n",
              "        docLink.innerHTML = docLinkHtml;\n",
              "        element.appendChild(docLink);\n",
              "      }\n",
              "    </script>\n",
              "  </div>\n",
              "\n",
              "\n",
              "<div id=\"df-a906b369-289e-4bb5-9c7e-ce40c3356319\">\n",
              "  <button class=\"colab-df-quickchart\" onclick=\"quickchart('df-a906b369-289e-4bb5-9c7e-ce40c3356319')\"\n",
              "            title=\"Suggest charts\"\n",
              "            style=\"display:none;\">\n",
              "\n",
              "<svg xmlns=\"http://www.w3.org/2000/svg\" height=\"24px\"viewBox=\"0 0 24 24\"\n",
              "     width=\"24px\">\n",
              "    <g>\n",
              "        <path d=\"M19 3H5c-1.1 0-2 .9-2 2v14c0 1.1.9 2 2 2h14c1.1 0 2-.9 2-2V5c0-1.1-.9-2-2-2zM9 17H7v-7h2v7zm4 0h-2V7h2v10zm4 0h-2v-4h2v4z\"/>\n",
              "    </g>\n",
              "</svg>\n",
              "  </button>\n",
              "\n",
              "<style>\n",
              "  .colab-df-quickchart {\n",
              "      --bg-color: #E8F0FE;\n",
              "      --fill-color: #1967D2;\n",
              "      --hover-bg-color: #E2EBFA;\n",
              "      --hover-fill-color: #174EA6;\n",
              "      --disabled-fill-color: #AAA;\n",
              "      --disabled-bg-color: #DDD;\n",
              "  }\n",
              "\n",
              "  [theme=dark] .colab-df-quickchart {\n",
              "      --bg-color: #3B4455;\n",
              "      --fill-color: #D2E3FC;\n",
              "      --hover-bg-color: #434B5C;\n",
              "      --hover-fill-color: #FFFFFF;\n",
              "      --disabled-bg-color: #3B4455;\n",
              "      --disabled-fill-color: #666;\n",
              "  }\n",
              "\n",
              "  .colab-df-quickchart {\n",
              "    background-color: var(--bg-color);\n",
              "    border: none;\n",
              "    border-radius: 50%;\n",
              "    cursor: pointer;\n",
              "    display: none;\n",
              "    fill: var(--fill-color);\n",
              "    height: 32px;\n",
              "    padding: 0;\n",
              "    width: 32px;\n",
              "  }\n",
              "\n",
              "  .colab-df-quickchart:hover {\n",
              "    background-color: var(--hover-bg-color);\n",
              "    box-shadow: 0 1px 2px rgba(60, 64, 67, 0.3), 0 1px 3px 1px rgba(60, 64, 67, 0.15);\n",
              "    fill: var(--button-hover-fill-color);\n",
              "  }\n",
              "\n",
              "  .colab-df-quickchart-complete:disabled,\n",
              "  .colab-df-quickchart-complete:disabled:hover {\n",
              "    background-color: var(--disabled-bg-color);\n",
              "    fill: var(--disabled-fill-color);\n",
              "    box-shadow: none;\n",
              "  }\n",
              "\n",
              "  .colab-df-spinner {\n",
              "    border: 2px solid var(--fill-color);\n",
              "    border-color: transparent;\n",
              "    border-bottom-color: var(--fill-color);\n",
              "    animation:\n",
              "      spin 1s steps(1) infinite;\n",
              "  }\n",
              "\n",
              "  @keyframes spin {\n",
              "    0% {\n",
              "      border-color: transparent;\n",
              "      border-bottom-color: var(--fill-color);\n",
              "      border-left-color: var(--fill-color);\n",
              "    }\n",
              "    20% {\n",
              "      border-color: transparent;\n",
              "      border-left-color: var(--fill-color);\n",
              "      border-top-color: var(--fill-color);\n",
              "    }\n",
              "    30% {\n",
              "      border-color: transparent;\n",
              "      border-left-color: var(--fill-color);\n",
              "      border-top-color: var(--fill-color);\n",
              "      border-right-color: var(--fill-color);\n",
              "    }\n",
              "    40% {\n",
              "      border-color: transparent;\n",
              "      border-right-color: var(--fill-color);\n",
              "      border-top-color: var(--fill-color);\n",
              "    }\n",
              "    60% {\n",
              "      border-color: transparent;\n",
              "      border-right-color: var(--fill-color);\n",
              "    }\n",
              "    80% {\n",
              "      border-color: transparent;\n",
              "      border-right-color: var(--fill-color);\n",
              "      border-bottom-color: var(--fill-color);\n",
              "    }\n",
              "    90% {\n",
              "      border-color: transparent;\n",
              "      border-bottom-color: var(--fill-color);\n",
              "    }\n",
              "  }\n",
              "</style>\n",
              "\n",
              "  <script>\n",
              "    async function quickchart(key) {\n",
              "      const quickchartButtonEl =\n",
              "        document.querySelector('#' + key + ' button');\n",
              "      quickchartButtonEl.disabled = true;  // To prevent multiple clicks.\n",
              "      quickchartButtonEl.classList.add('colab-df-spinner');\n",
              "      try {\n",
              "        const charts = await google.colab.kernel.invokeFunction(\n",
              "            'suggestCharts', [key], {});\n",
              "      } catch (error) {\n",
              "        console.error('Error during call to suggestCharts:', error);\n",
              "      }\n",
              "      quickchartButtonEl.classList.remove('colab-df-spinner');\n",
              "      quickchartButtonEl.classList.add('colab-df-quickchart-complete');\n",
              "    }\n",
              "    (() => {\n",
              "      let quickchartButtonEl =\n",
              "        document.querySelector('#df-a906b369-289e-4bb5-9c7e-ce40c3356319 button');\n",
              "      quickchartButtonEl.style.display =\n",
              "        google.colab.kernel.accessAllowed ? 'block' : 'none';\n",
              "    })();\n",
              "  </script>\n",
              "</div>\n",
              "\n",
              "    </div>\n",
              "  </div>\n"
            ],
            "application/vnd.google.colaboratory.intrinsic+json": {
              "type": "dataframe",
              "variable_name": "data",
              "summary": "{\n  \"name\": \"data\",\n  \"rows\": 50,\n  \"fields\": [\n    {\n      \"column\": \"State\",\n      \"properties\": {\n        \"dtype\": \"string\",\n        \"num_unique_values\": 50,\n        \"samples\": [\n          \"Indiana\",\n          \"South Carolina\",\n          \"New Mexico\"\n        ],\n        \"semantic_type\": \"\",\n        \"description\": \"\"\n      }\n    },\n    {\n      \"column\": \"Population\",\n      \"properties\": {\n        \"dtype\": \"number\",\n        \"std\": 6848235,\n        \"min\": 563626,\n        \"max\": 37253956,\n        \"num_unique_values\": 50,\n        \"samples\": [\n          6483802,\n          4625364,\n          2059179\n        ],\n        \"semantic_type\": \"\",\n        \"description\": \"\"\n      }\n    },\n    {\n      \"column\": \"Murder.Rate\",\n      \"properties\": {\n        \"dtype\": \"number\",\n        \"std\": 1.9157361243029227,\n        \"min\": 0.9,\n        \"max\": 10.3,\n        \"num_unique_values\": 34,\n        \"samples\": [\n          1.6,\n          6.6,\n          4.0\n        ],\n        \"semantic_type\": \"\",\n        \"description\": \"\"\n      }\n    },\n    {\n      \"column\": \"Abbreviation\",\n      \"properties\": {\n        \"dtype\": \"string\",\n        \"num_unique_values\": 50,\n        \"samples\": [\n          \"IN\",\n          \"SC\",\n          \"NM\"\n        ],\n        \"semantic_type\": \"\",\n        \"description\": \"\"\n      }\n    }\n  ]\n}"
            }
          },
          "metadata": {},
          "execution_count": 29
        }
      ]
    },
    {
      "cell_type": "code",
      "source": [
        "#Generando cálculos de desviación estándar y cuantiles\n",
        "data[\"Population\"].std()"
      ],
      "metadata": {
        "colab": {
          "base_uri": "https://localhost:8080/"
        },
        "id": "gxT14a6fchUa",
        "outputId": "0328c790-31cc-4137-b3a6-47c70f9afc8b"
      },
      "execution_count": null,
      "outputs": [
        {
          "output_type": "execute_result",
          "data": {
            "text/plain": [
              "6848235.347401142"
            ]
          },
          "metadata": {},
          "execution_count": 10
        }
      ]
    },
    {
      "cell_type": "code",
      "source": [
        "#Calculando IQR\n",
        "data.Population.quantile(0.75)-data.Population.quantile(0.25)"
      ],
      "metadata": {
        "colab": {
          "base_uri": "https://localhost:8080/"
        },
        "id": "wfueePaacuSO",
        "outputId": "f9881d6e-3060-4188-aa2c-de2041625c15"
      },
      "execution_count": null,
      "outputs": [
        {
          "output_type": "execute_result",
          "data": {
            "text/plain": [
              "4847308.0"
            ]
          },
          "metadata": {},
          "execution_count": 11
        }
      ]
    },
    {
      "cell_type": "code",
      "source": [
        "robust.scale.mad(data[\"Population\"])"
      ],
      "metadata": {
        "colab": {
          "base_uri": "https://localhost:8080/"
        },
        "id": "xXe9KoApc9PK",
        "outputId": "8afb1b96-9344-4adf-c699-69447bf8b865"
      },
      "execution_count": null,
      "outputs": [
        {
          "output_type": "execute_result",
          "data": {
            "text/plain": [
              "3849876.1459979336"
            ]
          },
          "metadata": {},
          "execution_count": 12
        }
      ]
    },
    {
      "cell_type": "markdown",
      "source": [
        "La desviación estándar es casi dos veces mayor que la MAD (*desviación absoluta mediana de la mediana*)."
      ],
      "metadata": {
        "id": "4v6m6kBsdE2W"
      }
    },
    {
      "cell_type": "markdown",
      "source": [
        "#EXPLORACIÓN EN LA DISTRIBUCIÓN DE DATOS\n",
        "\n",
        "En este apartado se explorará:\n",
        "###1. Diagrama de caja: Visibilización rápida de la distribución de datos.\n",
        "###2. Diagrama de frecuencias: Registro de recuento de valores de datos numéricos que caen en un conjunto de intervalos.\n",
        "###3. Histograma: Diagrama de la tabla de frecuencias con los intervalos en el eje x y el recuento (o proporción) en el eje y.\n",
        "###4. Diagrama de densidad: Versión suavizada del histograma. A menudo basada en una **estimación de la densidad del núcleo (kernel density estimate**)."
      ],
      "metadata": {
        "id": "dhM329LPeVef"
      }
    },
    {
      "cell_type": "code",
      "source": [
        "#Calculando percentiles de la tasa de homicidios por estado\n",
        "data[\"Murder.Rate\"].quantile([0.05, 0.25, 0.5, 0.75, 0.95])"
      ],
      "metadata": {
        "colab": {
          "base_uri": "https://localhost:8080/",
          "height": 241
        },
        "id": "izu-JzpCeVD6",
        "outputId": "0be2ca99-0aaa-40c5-8405-e613c12726f1"
      },
      "execution_count": null,
      "outputs": [
        {
          "output_type": "execute_result",
          "data": {
            "text/plain": [
              "0.05    1.600\n",
              "0.25    2.425\n",
              "0.50    4.000\n",
              "0.75    5.550\n",
              "0.95    6.510\n",
              "Name: Murder.Rate, dtype: float64"
            ],
            "text/html": [
              "<div>\n",
              "<style scoped>\n",
              "    .dataframe tbody tr th:only-of-type {\n",
              "        vertical-align: middle;\n",
              "    }\n",
              "\n",
              "    .dataframe tbody tr th {\n",
              "        vertical-align: top;\n",
              "    }\n",
              "\n",
              "    .dataframe thead th {\n",
              "        text-align: right;\n",
              "    }\n",
              "</style>\n",
              "<table border=\"1\" class=\"dataframe\">\n",
              "  <thead>\n",
              "    <tr style=\"text-align: right;\">\n",
              "      <th></th>\n",
              "      <th>Murder.Rate</th>\n",
              "    </tr>\n",
              "  </thead>\n",
              "  <tbody>\n",
              "    <tr>\n",
              "      <th>0.05</th>\n",
              "      <td>1.600</td>\n",
              "    </tr>\n",
              "    <tr>\n",
              "      <th>0.25</th>\n",
              "      <td>2.425</td>\n",
              "    </tr>\n",
              "    <tr>\n",
              "      <th>0.50</th>\n",
              "      <td>4.000</td>\n",
              "    </tr>\n",
              "    <tr>\n",
              "      <th>0.75</th>\n",
              "      <td>5.550</td>\n",
              "    </tr>\n",
              "    <tr>\n",
              "      <th>0.95</th>\n",
              "      <td>6.510</td>\n",
              "    </tr>\n",
              "  </tbody>\n",
              "</table>\n",
              "</div><br><label><b>dtype:</b> float64</label>"
            ]
          },
          "metadata": {},
          "execution_count": 30
        }
      ]
    },
    {
      "cell_type": "code",
      "source": [
        "#Dibujando diagramas de caja\n",
        "ax = (data.Population/1_000_000).plot.box(figsize=(2,4))\n",
        "ax.set_ylabel(\"Población en millones\")"
      ],
      "metadata": {
        "colab": {
          "base_uri": "https://localhost:8080/",
          "height": 385
        },
        "id": "qkq3dQc0gV0s",
        "outputId": "880b7aba-8244-4161-ab10-f1707b041941"
      },
      "execution_count": null,
      "outputs": [
        {
          "output_type": "execute_result",
          "data": {
            "text/plain": [
              "Text(0, 0.5, 'Población en millones')"
            ]
          },
          "metadata": {},
          "execution_count": 35
        },
        {
          "output_type": "display_data",
          "data": {
            "text/plain": [
              "<Figure size 200x400 with 1 Axes>"
            ],
            "image/png": "[encoded data removed]"
          },
          "metadata": {}
        }
      ]
    },
    {
      "cell_type": "code",
      "source": [
        "#Calculando la tabla de frecuencias e histogramas\n",
        "binnedPopulation=pd.cut(data[\"Population\"],10)\n",
        "binnedPopulation.value_counts()"
      ],
      "metadata": {
        "colab": {
          "base_uri": "https://localhost:8080/",
          "height": 429
        },
        "id": "x6cHDYJRiTrL",
        "outputId": "1c70a3de-5000-464f-f2ed-21b9fab70e92"
      },
      "execution_count": null,
      "outputs": [
        {
          "output_type": "execute_result",
          "data": {
            "text/plain": [
              "Population\n",
              "(526935.67, 4232659.0]      24\n",
              "(4232659.0, 7901692.0]      14\n",
              "(7901692.0, 11570725.0]      6\n",
              "(11570725.0, 15239758.0]     2\n",
              "(15239758.0, 18908791.0]     1\n",
              "(18908791.0, 22577824.0]     1\n",
              "(22577824.0, 26246857.0]     1\n",
              "(33584923.0, 37253956.0]     1\n",
              "(26246857.0, 29915890.0]     0\n",
              "(29915890.0, 33584923.0]     0\n",
              "Name: count, dtype: int64"
            ],
            "text/html": [
              "<div>\n",
              "<style scoped>\n",
              "    .dataframe tbody tr th:only-of-type {\n",
              "        vertical-align: middle;\n",
              "    }\n",
              "\n",
              "    .dataframe tbody tr th {\n",
              "        vertical-align: top;\n",
              "    }\n",
              "\n",
              "    .dataframe thead th {\n",
              "        text-align: right;\n",
              "    }\n",
              "</style>\n",
              "<table border=\"1\" class=\"dataframe\">\n",
              "  <thead>\n",
              "    <tr style=\"text-align: right;\">\n",
              "      <th></th>\n",
              "      <th>count</th>\n",
              "    </tr>\n",
              "    <tr>\n",
              "      <th>Population</th>\n",
              "      <th></th>\n",
              "    </tr>\n",
              "  </thead>\n",
              "  <tbody>\n",
              "    <tr>\n",
              "      <th>(526935.67, 4232659.0]</th>\n",
              "      <td>24</td>\n",
              "    </tr>\n",
              "    <tr>\n",
              "      <th>(4232659.0, 7901692.0]</th>\n",
              "      <td>14</td>\n",
              "    </tr>\n",
              "    <tr>\n",
              "      <th>(7901692.0, 11570725.0]</th>\n",
              "      <td>6</td>\n",
              "    </tr>\n",
              "    <tr>\n",
              "      <th>(11570725.0, 15239758.0]</th>\n",
              "      <td>2</td>\n",
              "    </tr>\n",
              "    <tr>\n",
              "      <th>(15239758.0, 18908791.0]</th>\n",
              "      <td>1</td>\n",
              "    </tr>\n",
              "    <tr>\n",
              "      <th>(18908791.0, 22577824.0]</th>\n",
              "      <td>1</td>\n",
              "    </tr>\n",
              "    <tr>\n",
              "      <th>(22577824.0, 26246857.0]</th>\n",
              "      <td>1</td>\n",
              "    </tr>\n",
              "    <tr>\n",
              "      <th>(33584923.0, 37253956.0]</th>\n",
              "      <td>1</td>\n",
              "    </tr>\n",
              "    <tr>\n",
              "      <th>(26246857.0, 29915890.0]</th>\n",
              "      <td>0</td>\n",
              "    </tr>\n",
              "    <tr>\n",
              "      <th>(29915890.0, 33584923.0]</th>\n",
              "      <td>0</td>\n",
              "    </tr>\n",
              "  </tbody>\n",
              "</table>\n",
              "</div><br><label><b>dtype:</b> int64</label>"
            ]
          },
          "metadata": {},
          "execution_count": 33
        }
      ]
    },
    {
      "cell_type": "code",
      "source": [
        "#Histograma de población por estados:\n",
        "ax = (data.Population/1_000_000).plot.hist(figsize=(4,4))\n",
        "ax.set_ylabel(\"Población en millones\")"
      ],
      "metadata": {
        "colab": {
          "base_uri": "https://localhost:8080/",
          "height": 388
        },
        "id": "OLK0CTBKlMuD",
        "outputId": "01518d05-29a7-4344-c8fe-a6334c6ecb20"
      },
      "execution_count": null,
      "outputs": [
        {
          "output_type": "execute_result",
          "data": {
            "text/plain": [
              "Text(0, 0.5, 'Población en millones')"
            ]
          },
          "metadata": {},
          "execution_count": 34
        },
        {
          "output_type": "display_data",
          "data": {
            "text/plain": [
              "<Figure size 400x400 with 1 Axes>"
            ],
            "image/png": "[encoded data removed]"
          },
          "metadata": {}
        }
      ]
    },
    {
      "cell_type": "code",
      "source": [
        "#Diagrama de dispersión y curva de densidad\n",
        "ax=data[\"Murder.Rate\"].plot.hist(density=True,xlim=[0,12],bins=range(1,12))\n",
        "data[\"Murder.Rate\"].plot.density(ax=ax)\n",
        "ax.set_xlabel(\"Tasa de asesinatos por 1000000 habitantes\")"
      ],
      "metadata": {
        "colab": {
          "base_uri": "https://localhost:8080/",
          "height": 466
        },
        "id": "mHrpdkGClfOU",
        "outputId": "60ad0d1c-958a-4ef4-97ac-b87e931e738c"
      },
      "execution_count": null,
      "outputs": [
        {
          "output_type": "execute_result",
          "data": {
            "text/plain": [
              "Text(0.5, 0, 'Tasa de asesinatos por 1000000 habitantes')"
            ]
          },
          "metadata": {},
          "execution_count": 38
        },
        {
          "output_type": "display_data",
          "data": {
            "text/plain": [
              "<Figure size 640x480 with 1 Axes>"
            ],
            "image/png": "[encoded data removed]"
          },
          "metadata": {}
        }
      ]
    },
    {
      "cell_type": "markdown",
      "source": [
        "#ACTIVIDAD\n",
        "\n",
        "##1. Calcule las mismas métricas en su propio dataset.\n",
        "##2. Responda las siguientes preguntas.\n",
        "\n",
        "### Sobre Estimaciones de variabilidad\n",
        "1.   Qué significa que la desviación estándar es casi dos veces mayor que la MAD?\n",
        "2. Cómo puedo mejorar esta situación?\n",
        "3. Explique el resultado obtenido al calcular IQR\n",
        "\n",
        "### Sobre exploración en distribución de datos\n",
        "1. Qué información nos suministra los percentiles de tasa de homicidios por estados?\n",
        "2. Explique con sus propias palabras qué ionformación suministra el diagrama de caja con respecto a la tasa de homicidios por estado.\n",
        "3. Cómo podría agregarse los estados que se encuentran en cada uno de los intervalos? Si no sabe la respuesta, complete la tabla de forma manual y postee su respuesta. Interprete los resultados obtenidos.\n",
        "4. Explique el resultado obtenido por el diagrama de dispersión.\n",
        "\n",
        "##Nota:\n",
        "El resultado de ambos ejercicios debe ser subido a GitHub\n"
      ],
      "metadata": {
        "id": "6VVyqhcydu22"
      }
    },
    {
      "cell_type": "code",
      "source": [],
      "metadata": {
        "id": "tnf_6l4fdEB3"
      },
      "execution_count": null,
      "outputs": []
    }
  ]
}