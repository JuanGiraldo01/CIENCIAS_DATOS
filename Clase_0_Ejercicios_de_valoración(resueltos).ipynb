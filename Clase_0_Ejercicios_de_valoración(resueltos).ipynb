{
  "cells": [
    {
      "cell_type": "markdown",
      "metadata": {
        "id": "LMTngmL8WTCH"
      },
      "source": [
        "# Listado de Ejercicios a realizar"
      ]
    },
    {
      "cell_type": "markdown",
      "metadata": {
        "id": "o1F8rAPeWTCI"
      },
      "source": [
        "## 1. Sin usar el computador, evalúe las siguientes expresiones, y para cada una de ellas indique el resultado y su tipo (si la expresión es válida) o qué error ocurre:\n",
        "\n",
        "### Ejemplo\n",
        "- 2 + 3      # Respuesta: tipo int, valor 5\n",
        "- 4 / 0      # Respuesta: error de división por cero\n",
        "\n",
        "### Ejercicio\n",
        "\n",
        "- 5 + 3 * 4: 17\n",
        "- '5' + '3' * 2\n",
        "- 2 ** 11 == 1000 or 2 ** 9 == 100\n",
        "- int(\"cincuenta\")\n",
        "- 16/16 + 384/24\n",
        "- 600 + 18%\n",
        "- 0 < (4096 % 10) < 6\n",
        "- 'Max' + 'Min'\n",
        "- ABC() * DEF()\n",
        "- float(-int(\"7\")+int('90))\n",
        "- abs(len('seis') - len('tres'))\n",
        "- bool(1210) or bool(-3465)\n",
        "- float(str(int('8' * 3) / 3)[3])"
      ]
    },
    {
      "cell_type": "markdown",
      "metadata": {
        "id": "3ypbOL-AWTCI"
      },
      "source": [
        "#Respuesta\n"
      ]
    },
    {
      "cell_type": "markdown",
      "metadata": {
        "id": "hTD-ALkgWTCI"
      },
      "source": [
        "# 2. Imprima su nombre y fecha\n",
        "- Imprime: Jorge Alvarez - 20-04-2020"
      ]
    },
    {
      "cell_type": "code",
      "execution_count": null,
      "metadata": {
        "id": "Tgol0HqEWTCJ",
        "colab": {
          "base_uri": "https://localhost:8080/"
        },
        "outputId": "b4959a9e-ccc0-4dfd-a14a-80fdd5776bea"
      },
      "outputs": [
        {
          "output_type": "stream",
          "name": "stdout",
          "text": [
            " juan sebastian giraldo - 12-08-2024\n"
          ]
        }
      ],
      "source": [
        "# Respuesta:\n",
        "print(\" juan sebastian giraldo - 12-08-2024\")"
      ]
    },
    {
      "cell_type": "markdown",
      "metadata": {
        "id": "ayG30b-MWTCJ"
      },
      "source": [
        "# 3. Solicite un nombre y que el programa salude\n",
        "### Ejemplo:\n",
        "- ingreso: 'Andres'\n",
        "- imprime: 'Hola Andres'"
      ]
    },
    {
      "cell_type": "code",
      "execution_count": null,
      "metadata": {
        "id": "wiapNAn4WTCJ",
        "colab": {
          "base_uri": "https://localhost:8080/"
        },
        "outputId": "c708f222-5c6b-4f7a-99f5-b8c786451a78"
      },
      "outputs": [
        {
          "output_type": "stream",
          "name": "stdout",
          "text": [
            "cual es tu nombre ? juan\n",
            "hola juan\n"
          ]
        }
      ],
      "source": [
        "a=input(\"cual es tu nombre ? \")\n",
        "print(\"hola\",a)"
      ]
    },
    {
      "cell_type": "markdown",
      "metadata": {
        "id": "CYn33iniWTCK"
      },
      "source": [
        "# 4. Solicite el radio (un numero) de un círculo e imprima como salida su diámetro, perímetro y su área\n",
        "### Ejemplo\n",
        "- ingreso: 3\n",
        "- imprime - Diametro: 6\n",
        "- imprime - Perimetro: 18.84\n",
        "- imprime - Area: 28.27"
      ]
    },
    {
      "cell_type": "code",
      "execution_count": null,
      "metadata": {
        "id": "QR3TreJqWTCK",
        "colab": {
          "base_uri": "https://localhost:8080/"
        },
        "outputId": "78a53295-cfa0-444a-8a00-37edb7ac7de6"
      },
      "outputs": [
        {
          "output_type": "stream",
          "name": "stdout",
          "text": [
            "ingrese el radio de un circulo  2\n",
            "su diametro es igual a 4\n",
            "su area es igual a 12.56\n",
            "su perimetro es igual a 12.56\n"
          ]
        }
      ],
      "source": [
        "a=input(\"ingrese el radio de un circulo  \")\n",
        "print(f\"su diametro es igual a {2*int(a) }\")\n",
        "print(f\"su area es igual a {3.14*int(a)**2}\")\n",
        "print(f\"su perimetro es igual a {3.14 * 2*int(a)}\")"
      ]
    },
    {
      "cell_type": "markdown",
      "metadata": {
        "id": "CnJUFicqWTCK"
      },
      "source": [
        "# 5. Solicite 6 notas y calcule el promedio de ellas\n",
        "### Ejemplo\n",
        "- ingreso: 1 2 3 4 5 6\n",
        "- imprime: 3.5"
      ]
    },
    {
      "cell_type": "code",
      "execution_count": null,
      "metadata": {
        "id": "w4INhZgOWTCK",
        "colab": {
          "base_uri": "https://localhost:8080/"
        },
        "outputId": "746ee5a8-0d67-49c6-e563-ad8de22d95df"
      },
      "outputs": [
        {
          "output_type": "stream",
          "name": "stdout",
          "text": [
            "Ingrese la nota 1: 2\n",
            "Ingrese la nota 2: 2\n",
            "Ingrese la nota 3: 2\n",
            "Ingrese la nota 4: 2\n",
            "Ingrese la nota 5: 2\n",
            "Ingrese la nota 6: 2\n",
            "El promedio de las 6 notas es: 2.0\n"
          ]
        }
      ],
      "source": [
        "# Respuesta:\n",
        "nota1 = float(input(\"Ingrese la nota 1: \"))\n",
        "nota2 = float(input(\"Ingrese la nota 2: \"))\n",
        "nota3 = float(input(\"Ingrese la nota 3: \"))\n",
        "nota4 = float(input(\"Ingrese la nota 4: \"))\n",
        "nota5 = float(input(\"Ingrese la nota 5: \"))\n",
        "nota6 = float(input(\"Ingrese la nota 6: \"))\n",
        "\n",
        "promedio = (nota1 + nota2 + nota3 + nota4 + nota5 + nota6) / 6\n",
        "2\n",
        "print(f\"El promedio de las 6 notas es: {promedio:}\")\n"
      ]
    },
    {
      "cell_type": "markdown",
      "metadata": {
        "id": "9uGS-7dkWTCK"
      },
      "source": [
        "# 6. Solicite un valor e imprima que tipo de dato es\n",
        "### Ejemplo\n",
        "- ingreso: 'A'\n",
        "- imprime: str\n",
        "- ingreso: 1\n",
        "- imprime: int"
      ]
    },
    {
      "cell_type": "code",
      "execution_count": null,
      "metadata": {
        "id": "qW2J1DjwWTCK",
        "colab": {
          "base_uri": "https://localhost:8080/"
        },
        "outputId": "5ef41d4a-2015-4f89-9262-ba8cc262166e"
      },
      "outputs": [
        {
          "output_type": "stream",
          "name": "stdout",
          "text": [
            "ingrese un valor hola\n",
            "<class 'str'>\n"
          ]
        }
      ],
      "source": [
        "# Respuesta:\n",
        "a=input(\"ingrese un valor \")\n",
        "print(type(a))"
      ]
    },
    {
      "cell_type": "markdown",
      "metadata": {
        "id": "DwYtzwPKWTCK"
      },
      "source": [
        "# 7. Escriba en código la siguiente ecuación\n",
        "$$ \\left(\\frac{5+3}{3-2}\\right)^2$$"
      ]
    },
    {
      "cell_type": "code",
      "source": [
        "# Respuesta\n",
        "print(((5+3)/(3-2))**2)"
      ],
      "metadata": {
        "id": "HNgU-6C1Yguq",
        "colab": {
          "base_uri": "https://localhost:8080/"
        },
        "outputId": "898f1f52-f269-4ea2-df96-968f26974e0d"
      },
      "execution_count": null,
      "outputs": [
        {
          "output_type": "stream",
          "name": "stdout",
          "text": [
            "64.0\n"
          ]
        }
      ]
    },
    {
      "cell_type": "markdown",
      "metadata": {
        "id": "9U9cBSCtWTCL"
      },
      "source": [
        "# 8. Solicite número de horas trabajadas y coste por horas e imprima el valor\n",
        "### Ejemplo:\n",
        "- Ingreso: 4 (horas)\n",
        "- ingreso: 80.000 (precio x hora)\n",
        "- imprime: 320.000"
      ]
    },
    {
      "cell_type": "code",
      "execution_count": null,
      "metadata": {
        "id": "x-dT-cLeWTCL",
        "colab": {
          "base_uri": "https://localhost:8080/"
        },
        "outputId": "e57fe141-dede-4c42-9f0f-7d4c4d2b6a08"
      },
      "outputs": [
        {
          "output_type": "stream",
          "name": "stdout",
          "text": [
            "ingrese el numero de horas trabajadas= 4\n",
            "ingrese el precio por hora= 4000\n",
            "el valor a pagar es de 16000\n"
          ]
        }
      ],
      "source": [
        "# Respuesta\n",
        "horas=input(\"ingrese el numero de horas trabajadas= \")\n",
        "precio=input(\"ingrese el precio por hora= \")\n",
        "print(f\"el valor a pagar es de {int(horas)*int(precio)}\")"
      ]
    },
    {
      "cell_type": "markdown",
      "metadata": {
        "id": "zyktCgr5WTCL"
      },
      "source": [
        "# 9. Solicite la temperatura en grados Celsius e imprima en grados Kelvin y Fahrenheit\n",
        "### Ejemplo:\n",
        "- ingreso: 38 (°C)\n",
        "- imprime: 311.15 °K\n",
        "- imprime: 100.4 °F"
      ]
    },
    {
      "cell_type": "code",
      "execution_count": null,
      "metadata": {
        "id": "-ydgy_YwWTCL",
        "colab": {
          "base_uri": "https://localhost:8080/"
        },
        "outputId": "9124b08b-eb86-4478-f84c-71b505ec01f2"
      },
      "outputs": [
        {
          "output_type": "stream",
          "name": "stdout",
          "text": [
            "Ingrese la temperatura en grados Celsius: 0\n",
            "La temperatura en grados Kelvin es: 273.15 K\n",
            "La temperatura en grados Fahrenheit es: 32.0 °F\n"
          ]
        }
      ],
      "source": [
        "# Respuesta\n",
        "c = float(input(\"Ingrese la temperatura en grados Celsius: \"))\n",
        "k = c + 273.15\n",
        "f= (c * 9/5) + 32\n",
        "print(f\"La temperatura en grados Kelvin es: {k} K\")\n",
        "print(f\"La temperatura en grados Fahrenheit es: {f} °F\")\n"
      ]
    },
    {
      "cell_type": "markdown",
      "metadata": {
        "id": "uos8PvG9WTCL"
      },
      "source": [
        "# 10. Solicite 2 numeros e imprima si el segundo es mayor  \n",
        "### Ejemplo:\n",
        "- ingreso: 2\n",
        "- ingreso: 3\n",
        "- impmrime: True"
      ]
    },
    {
      "cell_type": "code",
      "execution_count": null,
      "metadata": {
        "id": "cVxmGhPVWTCL",
        "colab": {
          "base_uri": "https://localhost:8080/"
        },
        "outputId": "bac007a3-3c2a-41f5-fd3a-ab6677987332"
      },
      "outputs": [
        {
          "output_type": "stream",
          "name": "stdout",
          "text": [
            "Ingrese el primer número: 4\n",
            "Ingrese el segundo número: 1\n",
            "el segundo numero no es mayor\n"
          ]
        }
      ],
      "source": [
        "# Respuesta\n",
        "numero1 = int(input(\"Ingrese el primer número: \"))\n",
        "numero2 = int(input(\"Ingrese el segundo número: \"))\n",
        "\n",
        "if numero2 > numero1:\n",
        "    print(\"el segundo numero es mayor\")\n",
        "else:\n",
        "    print(\"el segundo numero no es mayor\")"
      ]
    },
    {
      "cell_type": "markdown",
      "metadata": {
        "id": "wnBR7YdPWTCL"
      },
      "source": [
        "# 11. Solicite 2 numeros e imprima si el segundo es menor  \n",
        "### Ejemplo:\n",
        "- ingreso: 2\n",
        "- ingreso: 3\n",
        "- impmrime: False"
      ]
    },
    {
      "cell_type": "code",
      "execution_count": null,
      "metadata": {
        "id": "9T9-iqzgWTCL",
        "colab": {
          "base_uri": "https://localhost:8080/"
        },
        "outputId": "f7529b65-58ad-4097-9a53-4fb6e3659903"
      },
      "outputs": [
        {
          "output_type": "stream",
          "name": "stdout",
          "text": [
            "Ingrese el primer número: 1\n",
            "Ingrese el segundo número: 6\n",
            "el segundo numero no es menor\n"
          ]
        }
      ],
      "source": [
        "# Respuesta\n",
        "numero1 = int(input(\"Ingrese el primer número: \"))\n",
        "numero2 = int(input(\"Ingrese el segundo número: \"))\n",
        "\n",
        "if numero2 < numero1:\n",
        "    print(\"el segundo numero es menor\")\n",
        "else:\n",
        "    print(\"el segundo numero no es menor\")"
      ]
    },
    {
      "cell_type": "markdown",
      "metadata": {
        "id": "X3JU40SNWTCL"
      },
      "source": [
        "# 12. Solicite una distancia (metros) y la velocidad (metros/segundos) e imprima el tiempo que se demora el recorrido\n",
        "### Ejemplo:\n",
        "- ingreso: 150 (metros)\n",
        "- ingreso: 15 (metros/segundo)\n",
        "- Imprime: 10 segundos"
      ]
    },
    {
      "cell_type": "code",
      "execution_count": null,
      "metadata": {
        "id": "Q04rEmU9WTCL",
        "colab": {
          "base_uri": "https://localhost:8080/"
        },
        "outputId": "65ce5179-c67c-4fb5-b7d7-c498b2715c18"
      },
      "outputs": [
        {
          "output_type": "stream",
          "name": "stdout",
          "text": [
            "Ingrese la distancia en metros: 500\n",
            "Ingrese la velocidad en metros por segundo: 100\n",
            "El tiempo que se demora el recorrido es de 5.0 segundos.\n"
          ]
        }
      ],
      "source": [
        "# Respuesta\n",
        "distancia = float(input(\"Ingrese la distancia en metros: \"))\n",
        "velocidad = float(input(\"Ingrese la velocidad en metros por segundo: \"))\n",
        "\n",
        "tiempo = distancia / velocidad\n",
        "\n",
        "print(f\"El tiempo que se demora el recorrido es de {tiempo} segundos.\")"
      ]
    },
    {
      "cell_type": "markdown",
      "metadata": {
        "id": "_8l0zJ0OWTCM"
      },
      "source": [
        "# 13. Solicite al usuario tres valores y escriba en código la siguiente ecuación\n",
        "$$ \\left(\\frac{a+b}{c}\\right) ^2 + \\left(\\frac{a-b}{c}\\right) ^ 2 $$"
      ]
    },
    {
      "cell_type": "code",
      "execution_count": null,
      "metadata": {
        "id": "35NzqYV8WTCM",
        "colab": {
          "base_uri": "https://localhost:8080/"
        },
        "outputId": "266859f4-9b5b-467e-c3d1-41dadff487f7"
      },
      "outputs": [
        {
          "output_type": "stream",
          "name": "stdout",
          "text": [
            "Ingrese el valor de a: 1\n",
            "Ingrese el valor de b: 1\n",
            "Ingrese el valor de c: 1\n",
            "El resultado de la ecuación es: 4.0\n"
          ]
        }
      ],
      "source": [
        "# Respuesta\n",
        "a = float(input(\"Ingrese el valor de a: \"))\n",
        "b = float(input(\"Ingrese el valor de b: \"))\n",
        "c = float(input(\"Ingrese el valor de c: \"))\n",
        "\n",
        "ecuacion = ((a + b) / c)**2 + ((a - b) / c)**2\n",
        "\n",
        "print(f\"El resultado de la ecuación es: {ecuacion}\")"
      ]
    },
    {
      "cell_type": "markdown",
      "metadata": {
        "id": "KpLmK4psWTCM"
      },
      "source": [
        "# 14. Investigue como se saca la raíz cuadrada de un número en Python y escriba la solución en el cuadro de abajo"
      ]
    },
    {
      "cell_type": "code",
      "execution_count": null,
      "metadata": {
        "id": "hmB61u9KWTCM",
        "colab": {
          "base_uri": "https://localhost:8080/"
        },
        "outputId": "b624407c-b564-4801-af0a-4ef168071674"
      },
      "outputs": [
        {
          "output_type": "stream",
          "name": "stdout",
          "text": [
            "Ingrese un número: 4\n",
            "La raíz cuadrada de 4.0 es: 2.0\n"
          ]
        }
      ],
      "source": [
        "# Respuesta\n",
        "import math\n",
        "\n",
        "# Solicitar un número al usuario\n",
        "numero = float(input(\"Ingrese un número: \"))\n",
        "\n",
        "# Calcular la raíz cuadrada\n",
        "raiz_cuadrada = math.sqrt(numero)\n",
        "\n",
        "# Imprimir el resultado\n",
        "print(f\"La raíz cuadrada de {numero} es: {raiz_cuadrada}\")\n"
      ]
    },
    {
      "cell_type": "markdown",
      "metadata": {
        "id": "uDskyR69WTCM"
      },
      "source": [
        "# 15.  Con lo anterior solicite 2 numeros (Cateto a y Cateto b) e imprima la hipotenusa.\n",
        "### Ejemplo:\n",
        "- ingreso: 3 (Cateto a)\n",
        "- ingreso: 4 (Cateto b)\n",
        "- imprime: Hipotenusa = 5"
      ]
    },
    {
      "cell_type": "code",
      "execution_count": null,
      "metadata": {
        "id": "TmahDtWwWTCM",
        "colab": {
          "base_uri": "https://localhost:8080/"
        },
        "outputId": "00d95a3c-efba-40c4-c4ba-ad360c886d58"
      },
      "outputs": [
        {
          "output_type": "stream",
          "name": "stdout",
          "text": [
            "Ingrese el valor del cateto a: 2\n",
            "Ingrese el valor del cateto b: 2\n",
            "La hipotenusa es: 2.8284271247461903\n"
          ]
        }
      ],
      "source": [
        "# Respuesta\n",
        "import math\n",
        "cateto_a = float(input(\"Ingrese el valor del cateto a: \"))\n",
        "cateto_b = float(input(\"Ingrese el valor del cateto b: \"))\n",
        "hipotenusa = math.sqrt(cateto_a**2 + cateto_b**2)\n",
        "\n",
        "print(f\"La hipotenusa es: {hipotenusa}\")\n"
      ]
    },
    {
      "cell_type": "code",
      "execution_count": null,
      "metadata": {
        "id": "LIUNj3nmWTCM"
      },
      "outputs": [],
      "source": []
    }
  ],
  "metadata": {
    "kernelspec": {
      "display_name": "Python 3",
      "language": "python",
      "name": "python3"
    },
    "language_info": {
      "codemirror_mode": {
        "name": "ipython",
        "version": 3
      },
      "file_extension": ".py",
      "mimetype": "text/x-python",
      "name": "python",
      "nbconvert_exporter": "python",
      "pygments_lexer": "ipython3",
      "version": "3.8.5"
    },
    "colab": {
      "provenance": []
    }
  },
  "nbformat": 4,
  "nbformat_minor": 0
}