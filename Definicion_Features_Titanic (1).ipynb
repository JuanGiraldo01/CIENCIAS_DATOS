{
  "nbformat": 4,
  "nbformat_minor": 0,
  "metadata": {
    "colab": {
      "provenance": []
    },
    "kernelspec": {
      "name": "python3",
      "display_name": "Python 3"
    },
    "language_info": {
      "name": "python"
    }
  },
  "cells": [
    {
      "cell_type": "markdown",
      "source": [
        "#Definicion de los Features del DataSet del Titanic\n",
        "\n",
        "\n",
        "## PassengerId = Id del pasajero\n",
        "##Survived = 0=murio - 1=sobrevivio\n",
        "##Pclass = 1=Primera clase - 2=Segunda clase - 3=Tercera clase\n",
        "##Name = Nombre del pasajero\n",
        "##Sex = Genero del pasajero\n",
        "##Age = Edad del pasajero\n",
        "##SibSp = Numero de hermanos\n",
        "##Parch = Número de Familiares (padres o hijos ) que un pasajero tenía a bordo\n",
        "##Ticket = Número del ticket del pasajero\n",
        "##Fare = Tarifa pagada por el pasajero (en libras esterlinas)\n",
        "##Cabin = Cabina donde vivia el pasajero durante el viaje.\n",
        "##Embarked = Lugar desde el cual embarco: C=Cherbourg -  Q=Queenstown - S=Southampton"
      ],
      "metadata": {
        "id": "hYmZozo1_JQS"
      }
    },
    {
      "cell_type": "code",
      "execution_count": null,
      "metadata": {
        "id": "p8JWTxsl_EXO"
      },
      "outputs": [],
      "source": []
    }
  ]
}